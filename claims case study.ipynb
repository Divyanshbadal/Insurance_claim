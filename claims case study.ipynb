{
 "cells": [
  {
   "cell_type": "markdown",
   "id": "47784e22-4f8b-4713-b63f-f5eac8d1b542",
   "metadata": {},
   "source": [
    "## INSURANCE CLAIMS\n"
   ]
  },
  {
   "cell_type": "markdown",
   "id": "357ac99b-5baf-400c-b123-b329fed31c70",
   "metadata": {},
   "source": [
    "### importing the Data and necessary libraries"
   ]
  },
  {
   "cell_type": "code",
   "execution_count": 1,
   "id": "9ba27eb2",
   "metadata": {},
   "outputs": [],
   "source": [
    "import pandas as pd \n",
    "import numpy as np\n",
    "import statistics \n",
    "from datetime import date\n",
    "import matplotlib.pyplot as plt\n",
    "import seaborn as sns"
   ]
  },
  {
   "cell_type": "code",
   "execution_count": 2,
   "id": "c2ce98fe",
   "metadata": {},
   "outputs": [],
   "source": [
    "import scipy.stats as stats"
   ]
  },
  {
   "cell_type": "code",
   "execution_count": 3,
   "id": "fc12dcd0",
   "metadata": {},
   "outputs": [
    {
     "data": {
      "text/html": [
       "<div>\n",
       "<style scoped>\n",
       "    .dataframe tbody tr th:only-of-type {\n",
       "        vertical-align: middle;\n",
       "    }\n",
       "\n",
       "    .dataframe tbody tr th {\n",
       "        vertical-align: top;\n",
       "    }\n",
       "\n",
       "    .dataframe thead th {\n",
       "        text-align: right;\n",
       "    }\n",
       "</style>\n",
       "<table border=\"1\" class=\"dataframe\">\n",
       "  <thead>\n",
       "    <tr style=\"text-align: right;\">\n",
       "      <th></th>\n",
       "      <th>claim_id</th>\n",
       "      <th>customer_id</th>\n",
       "      <th>incident_cause</th>\n",
       "      <th>claim_date</th>\n",
       "      <th>claim_area</th>\n",
       "      <th>police_report</th>\n",
       "      <th>claim_type</th>\n",
       "      <th>claim_amount</th>\n",
       "      <th>total_policy_claims</th>\n",
       "      <th>fraudulent</th>\n",
       "    </tr>\n",
       "  </thead>\n",
       "  <tbody>\n",
       "    <tr>\n",
       "      <th>0</th>\n",
       "      <td>54004764</td>\n",
       "      <td>21868593</td>\n",
       "      <td>Driver error</td>\n",
       "      <td>11/27/2017</td>\n",
       "      <td>Auto</td>\n",
       "      <td>No</td>\n",
       "      <td>Material only</td>\n",
       "      <td>$2980</td>\n",
       "      <td>1.0</td>\n",
       "      <td>No</td>\n",
       "    </tr>\n",
       "    <tr>\n",
       "      <th>1</th>\n",
       "      <td>33985796</td>\n",
       "      <td>75740424</td>\n",
       "      <td>Crime</td>\n",
       "      <td>10/03/2018</td>\n",
       "      <td>Home</td>\n",
       "      <td>Unknown</td>\n",
       "      <td>Material only</td>\n",
       "      <td>$2980</td>\n",
       "      <td>3.0</td>\n",
       "      <td>No</td>\n",
       "    </tr>\n",
       "    <tr>\n",
       "      <th>2</th>\n",
       "      <td>53522022</td>\n",
       "      <td>30308357</td>\n",
       "      <td>Other driver error</td>\n",
       "      <td>02/02/2018</td>\n",
       "      <td>Auto</td>\n",
       "      <td>No</td>\n",
       "      <td>Material only</td>\n",
       "      <td>$3369.5</td>\n",
       "      <td>1.0</td>\n",
       "      <td>Yes</td>\n",
       "    </tr>\n",
       "    <tr>\n",
       "      <th>3</th>\n",
       "      <td>13015401</td>\n",
       "      <td>47830476</td>\n",
       "      <td>Natural causes</td>\n",
       "      <td>06/17/2018</td>\n",
       "      <td>Auto</td>\n",
       "      <td>No</td>\n",
       "      <td>Material only</td>\n",
       "      <td>$1680</td>\n",
       "      <td>1.0</td>\n",
       "      <td>No</td>\n",
       "    </tr>\n",
       "    <tr>\n",
       "      <th>4</th>\n",
       "      <td>22890252</td>\n",
       "      <td>19269962</td>\n",
       "      <td>Crime</td>\n",
       "      <td>01/13/2018</td>\n",
       "      <td>Auto</td>\n",
       "      <td>No</td>\n",
       "      <td>Material only</td>\n",
       "      <td>$2680</td>\n",
       "      <td>1.0</td>\n",
       "      <td>No</td>\n",
       "    </tr>\n",
       "  </tbody>\n",
       "</table>\n",
       "</div>"
      ],
      "text/plain": [
       "   claim_id  customer_id      incident_cause  claim_date claim_area  \\\n",
       "0  54004764     21868593        Driver error  11/27/2017       Auto   \n",
       "1  33985796     75740424               Crime  10/03/2018       Home   \n",
       "2  53522022     30308357  Other driver error  02/02/2018       Auto   \n",
       "3  13015401     47830476      Natural causes  06/17/2018       Auto   \n",
       "4  22890252     19269962               Crime  01/13/2018       Auto   \n",
       "\n",
       "  police_report     claim_type claim_amount  total_policy_claims fraudulent  \n",
       "0            No  Material only        $2980                  1.0         No  \n",
       "1       Unknown  Material only        $2980                  3.0         No  \n",
       "2            No  Material only      $3369.5                  1.0        Yes  \n",
       "3            No  Material only        $1680                  1.0         No  \n",
       "4            No  Material only        $2680                  1.0         No  "
      ]
     },
     "execution_count": 3,
     "metadata": {},
     "output_type": "execute_result"
    }
   ],
   "source": [
    "claim = pd.read_csv(r\"C:\\Users\\RADIANT COMPUTERS\\Desktop\\divyansh_lms\\python case study 3\\claims.csv\")\n",
    "claim.head()"
   ]
  },
  {
   "cell_type": "code",
   "execution_count": 4,
   "id": "6c268dd3",
   "metadata": {},
   "outputs": [
    {
     "data": {
      "text/html": [
       "<div>\n",
       "<style scoped>\n",
       "    .dataframe tbody tr th:only-of-type {\n",
       "        vertical-align: middle;\n",
       "    }\n",
       "\n",
       "    .dataframe tbody tr th {\n",
       "        vertical-align: top;\n",
       "    }\n",
       "\n",
       "    .dataframe thead th {\n",
       "        text-align: right;\n",
       "    }\n",
       "</style>\n",
       "<table border=\"1\" class=\"dataframe\">\n",
       "  <thead>\n",
       "    <tr style=\"text-align: right;\">\n",
       "      <th></th>\n",
       "      <th>CUST_ID</th>\n",
       "      <th>gender</th>\n",
       "      <th>DateOfBirth</th>\n",
       "      <th>State</th>\n",
       "      <th>Contact</th>\n",
       "      <th>Segment</th>\n",
       "    </tr>\n",
       "  </thead>\n",
       "  <tbody>\n",
       "    <tr>\n",
       "      <th>0</th>\n",
       "      <td>21868593</td>\n",
       "      <td>Female</td>\n",
       "      <td>12-Jan-79</td>\n",
       "      <td>VT</td>\n",
       "      <td>789-916-8172</td>\n",
       "      <td>Platinum</td>\n",
       "    </tr>\n",
       "    <tr>\n",
       "      <th>1</th>\n",
       "      <td>75740424</td>\n",
       "      <td>Female</td>\n",
       "      <td>13-Jan-70</td>\n",
       "      <td>ME</td>\n",
       "      <td>265-543-1264</td>\n",
       "      <td>Silver</td>\n",
       "    </tr>\n",
       "    <tr>\n",
       "      <th>2</th>\n",
       "      <td>30308357</td>\n",
       "      <td>Female</td>\n",
       "      <td>11-Mar-84</td>\n",
       "      <td>TN</td>\n",
       "      <td>798-631-4758</td>\n",
       "      <td>Silver</td>\n",
       "    </tr>\n",
       "    <tr>\n",
       "      <th>3</th>\n",
       "      <td>47830476</td>\n",
       "      <td>Female</td>\n",
       "      <td>01-May-86</td>\n",
       "      <td>MA</td>\n",
       "      <td>413-187-7945</td>\n",
       "      <td>Silver</td>\n",
       "    </tr>\n",
       "    <tr>\n",
       "      <th>4</th>\n",
       "      <td>19269962</td>\n",
       "      <td>Male</td>\n",
       "      <td>13-May-77</td>\n",
       "      <td>NV</td>\n",
       "      <td>956-871-8691</td>\n",
       "      <td>Gold</td>\n",
       "    </tr>\n",
       "  </tbody>\n",
       "</table>\n",
       "</div>"
      ],
      "text/plain": [
       "    CUST_ID  gender DateOfBirth State       Contact   Segment\n",
       "0  21868593  Female   12-Jan-79    VT  789-916-8172  Platinum\n",
       "1  75740424  Female   13-Jan-70    ME  265-543-1264    Silver\n",
       "2  30308357  Female   11-Mar-84    TN  798-631-4758    Silver\n",
       "3  47830476  Female   01-May-86    MA  413-187-7945    Silver\n",
       "4  19269962    Male   13-May-77    NV  956-871-8691      Gold"
      ]
     },
     "execution_count": 4,
     "metadata": {},
     "output_type": "execute_result"
    }
   ],
   "source": [
    "cust = pd.read_csv(r\"C:\\Users\\RADIANT COMPUTERS\\Desktop\\divyansh_lms\\python case study 3\\cust_demographics.csv\")\n",
    "cust.head()"
   ]
  },
  {
   "cell_type": "code",
   "execution_count": 5,
   "id": "4dc6ad54",
   "metadata": {},
   "outputs": [
    {
     "name": "stdout",
     "output_type": "stream",
     "text": [
      "<class 'pandas.core.frame.DataFrame'>\n",
      "RangeIndex: 1085 entries, 0 to 1084\n",
      "Data columns (total 6 columns):\n",
      " #   Column       Non-Null Count  Dtype \n",
      "---  ------       --------------  ----- \n",
      " 0   CUST_ID      1085 non-null   int64 \n",
      " 1   gender       1085 non-null   object\n",
      " 2   DateOfBirth  1085 non-null   object\n",
      " 3   State        1085 non-null   object\n",
      " 4   Contact      1085 non-null   object\n",
      " 5   Segment      1085 non-null   object\n",
      "dtypes: int64(1), object(5)\n",
      "memory usage: 51.0+ KB\n"
     ]
    }
   ],
   "source": [
    "cust.info()"
   ]
  },
  {
   "cell_type": "code",
   "execution_count": 6,
   "id": "bed14e75",
   "metadata": {},
   "outputs": [
    {
     "name": "stdout",
     "output_type": "stream",
     "text": [
      "<class 'pandas.core.frame.DataFrame'>\n",
      "RangeIndex: 1100 entries, 0 to 1099\n",
      "Data columns (total 10 columns):\n",
      " #   Column               Non-Null Count  Dtype  \n",
      "---  ------               --------------  -----  \n",
      " 0   claim_id             1100 non-null   int64  \n",
      " 1   customer_id          1100 non-null   int64  \n",
      " 2   incident_cause       1100 non-null   object \n",
      " 3   claim_date           1100 non-null   object \n",
      " 4   claim_area           1100 non-null   object \n",
      " 5   police_report        1100 non-null   object \n",
      " 6   claim_type           1100 non-null   object \n",
      " 7   claim_amount         1035 non-null   object \n",
      " 8   total_policy_claims  1090 non-null   float64\n",
      " 9   fraudulent           1100 non-null   object \n",
      "dtypes: float64(1), int64(2), object(7)\n",
      "memory usage: 86.1+ KB\n"
     ]
    }
   ],
   "source": [
    "claim.info()   "
   ]
  },
  {
   "cell_type": "markdown",
   "id": "970db985-889d-479d-90da-845b9c292354",
   "metadata": {
    "scrolled": true
   },
   "source": [
    "#### Maring the Data sets & Data info\n"
   ]
  },
  {
   "cell_type": "code",
   "execution_count": 7,
   "id": "329b125a",
   "metadata": {},
   "outputs": [
    {
     "data": {
      "text/html": [
       "<div>\n",
       "<style scoped>\n",
       "    .dataframe tbody tr th:only-of-type {\n",
       "        vertical-align: middle;\n",
       "    }\n",
       "\n",
       "    .dataframe tbody tr th {\n",
       "        vertical-align: top;\n",
       "    }\n",
       "\n",
       "    .dataframe thead th {\n",
       "        text-align: right;\n",
       "    }\n",
       "</style>\n",
       "<table border=\"1\" class=\"dataframe\">\n",
       "  <thead>\n",
       "    <tr style=\"text-align: right;\">\n",
       "      <th></th>\n",
       "      <th>claim_id</th>\n",
       "      <th>customer_id</th>\n",
       "      <th>incident_cause</th>\n",
       "      <th>claim_date</th>\n",
       "      <th>claim_area</th>\n",
       "      <th>police_report</th>\n",
       "      <th>claim_type</th>\n",
       "      <th>claim_amount</th>\n",
       "      <th>total_policy_claims</th>\n",
       "      <th>fraudulent</th>\n",
       "      <th>CUST_ID</th>\n",
       "      <th>gender</th>\n",
       "      <th>DateOfBirth</th>\n",
       "      <th>State</th>\n",
       "      <th>Contact</th>\n",
       "      <th>Segment</th>\n",
       "    </tr>\n",
       "  </thead>\n",
       "  <tbody>\n",
       "    <tr>\n",
       "      <th>0</th>\n",
       "      <td>54004764</td>\n",
       "      <td>21868593</td>\n",
       "      <td>Driver error</td>\n",
       "      <td>11/27/2017</td>\n",
       "      <td>Auto</td>\n",
       "      <td>No</td>\n",
       "      <td>Material only</td>\n",
       "      <td>$2980</td>\n",
       "      <td>1.0</td>\n",
       "      <td>No</td>\n",
       "      <td>21868593</td>\n",
       "      <td>Female</td>\n",
       "      <td>12-Jan-79</td>\n",
       "      <td>VT</td>\n",
       "      <td>789-916-8172</td>\n",
       "      <td>Platinum</td>\n",
       "    </tr>\n",
       "    <tr>\n",
       "      <th>1</th>\n",
       "      <td>33985796</td>\n",
       "      <td>75740424</td>\n",
       "      <td>Crime</td>\n",
       "      <td>10/03/2018</td>\n",
       "      <td>Home</td>\n",
       "      <td>Unknown</td>\n",
       "      <td>Material only</td>\n",
       "      <td>$2980</td>\n",
       "      <td>3.0</td>\n",
       "      <td>No</td>\n",
       "      <td>75740424</td>\n",
       "      <td>Female</td>\n",
       "      <td>13-Jan-70</td>\n",
       "      <td>ME</td>\n",
       "      <td>265-543-1264</td>\n",
       "      <td>Silver</td>\n",
       "    </tr>\n",
       "    <tr>\n",
       "      <th>2</th>\n",
       "      <td>53522022</td>\n",
       "      <td>30308357</td>\n",
       "      <td>Other driver error</td>\n",
       "      <td>02/02/2018</td>\n",
       "      <td>Auto</td>\n",
       "      <td>No</td>\n",
       "      <td>Material only</td>\n",
       "      <td>$3369.5</td>\n",
       "      <td>1.0</td>\n",
       "      <td>Yes</td>\n",
       "      <td>30308357</td>\n",
       "      <td>Female</td>\n",
       "      <td>11-Mar-84</td>\n",
       "      <td>TN</td>\n",
       "      <td>798-631-4758</td>\n",
       "      <td>Silver</td>\n",
       "    </tr>\n",
       "    <tr>\n",
       "      <th>3</th>\n",
       "      <td>63017412</td>\n",
       "      <td>30308357</td>\n",
       "      <td>Driver error</td>\n",
       "      <td>04/04/2018</td>\n",
       "      <td>Auto</td>\n",
       "      <td>No</td>\n",
       "      <td>Material only</td>\n",
       "      <td>$1950</td>\n",
       "      <td>6.0</td>\n",
       "      <td>No</td>\n",
       "      <td>30308357</td>\n",
       "      <td>Female</td>\n",
       "      <td>11-Mar-84</td>\n",
       "      <td>TN</td>\n",
       "      <td>798-631-4758</td>\n",
       "      <td>Silver</td>\n",
       "    </tr>\n",
       "    <tr>\n",
       "      <th>4</th>\n",
       "      <td>13015401</td>\n",
       "      <td>47830476</td>\n",
       "      <td>Natural causes</td>\n",
       "      <td>06/17/2018</td>\n",
       "      <td>Auto</td>\n",
       "      <td>No</td>\n",
       "      <td>Material only</td>\n",
       "      <td>$1680</td>\n",
       "      <td>1.0</td>\n",
       "      <td>No</td>\n",
       "      <td>47830476</td>\n",
       "      <td>Female</td>\n",
       "      <td>01-May-86</td>\n",
       "      <td>MA</td>\n",
       "      <td>413-187-7945</td>\n",
       "      <td>Silver</td>\n",
       "    </tr>\n",
       "  </tbody>\n",
       "</table>\n",
       "</div>"
      ],
      "text/plain": [
       "   claim_id  customer_id      incident_cause  claim_date claim_area  \\\n",
       "0  54004764     21868593        Driver error  11/27/2017       Auto   \n",
       "1  33985796     75740424               Crime  10/03/2018       Home   \n",
       "2  53522022     30308357  Other driver error  02/02/2018       Auto   \n",
       "3  63017412     30308357        Driver error  04/04/2018       Auto   \n",
       "4  13015401     47830476      Natural causes  06/17/2018       Auto   \n",
       "\n",
       "  police_report     claim_type claim_amount  total_policy_claims fraudulent  \\\n",
       "0            No  Material only        $2980                  1.0         No   \n",
       "1       Unknown  Material only        $2980                  3.0         No   \n",
       "2            No  Material only      $3369.5                  1.0        Yes   \n",
       "3            No  Material only        $1950                  6.0         No   \n",
       "4            No  Material only        $1680                  1.0         No   \n",
       "\n",
       "    CUST_ID  gender DateOfBirth State       Contact   Segment  \n",
       "0  21868593  Female   12-Jan-79    VT  789-916-8172  Platinum  \n",
       "1  75740424  Female   13-Jan-70    ME  265-543-1264    Silver  \n",
       "2  30308357  Female   11-Mar-84    TN  798-631-4758    Silver  \n",
       "3  30308357  Female   11-Mar-84    TN  798-631-4758    Silver  \n",
       "4  47830476  Female   01-May-86    MA  413-187-7945    Silver  "
      ]
     },
     "execution_count": 7,
     "metadata": {},
     "output_type": "execute_result"
    }
   ],
   "source": [
    "insurance=pd.merge(claim,cust,how='inner',left_on='customer_id',right_on='CUST_ID')\n",
    "insurance.head()\n"
   ]
  },
  {
   "cell_type": "code",
   "execution_count": 8,
   "id": "87078e1f-bd3a-4964-9664-c21f70a5a349",
   "metadata": {},
   "outputs": [
    {
     "name": "stdout",
     "output_type": "stream",
     "text": [
      "<class 'pandas.core.frame.DataFrame'>\n",
      "RangeIndex: 1085 entries, 0 to 1084\n",
      "Data columns (total 16 columns):\n",
      " #   Column               Non-Null Count  Dtype  \n",
      "---  ------               --------------  -----  \n",
      " 0   claim_id             1085 non-null   int64  \n",
      " 1   customer_id          1085 non-null   int64  \n",
      " 2   incident_cause       1085 non-null   object \n",
      " 3   claim_date           1085 non-null   object \n",
      " 4   claim_area           1085 non-null   object \n",
      " 5   police_report        1085 non-null   object \n",
      " 6   claim_type           1085 non-null   object \n",
      " 7   claim_amount         1020 non-null   object \n",
      " 8   total_policy_claims  1075 non-null   float64\n",
      " 9   fraudulent           1085 non-null   object \n",
      " 10  CUST_ID              1085 non-null   int64  \n",
      " 11  gender               1085 non-null   object \n",
      " 12  DateOfBirth          1085 non-null   object \n",
      " 13  State                1085 non-null   object \n",
      " 14  Contact              1085 non-null   object \n",
      " 15  Segment              1085 non-null   object \n",
      "dtypes: float64(1), int64(3), object(12)\n",
      "memory usage: 135.8+ KB\n"
     ]
    }
   ],
   "source": [
    "insurance.info()"
   ]
  },
  {
   "cell_type": "code",
   "execution_count": 9,
   "id": "761df161-dfdd-4bca-ba2c-770e28f15992",
   "metadata": {},
   "outputs": [
    {
     "data": {
      "text/plain": [
       "Index(['claim_id', 'customer_id', 'incident_cause', 'claim_date', 'claim_area',\n",
       "       'police_report', 'claim_type', 'claim_amount', 'total_policy_claims',\n",
       "       'fraudulent', 'CUST_ID', 'gender', 'DateOfBirth', 'State', 'Contact',\n",
       "       'Segment'],\n",
       "      dtype='object')"
      ]
     },
     "execution_count": 9,
     "metadata": {},
     "output_type": "execute_result"
    }
   ],
   "source": [
    "insurance.columns"
   ]
  },
  {
   "cell_type": "code",
   "execution_count": 10,
   "id": "b91ae16e-9c2c-4203-8675-9d7740f65bdd",
   "metadata": {},
   "outputs": [
    {
     "data": {
      "text/html": [
       "<div>\n",
       "<style scoped>\n",
       "    .dataframe tbody tr th:only-of-type {\n",
       "        vertical-align: middle;\n",
       "    }\n",
       "\n",
       "    .dataframe tbody tr th {\n",
       "        vertical-align: top;\n",
       "    }\n",
       "\n",
       "    .dataframe thead th {\n",
       "        text-align: right;\n",
       "    }\n",
       "</style>\n",
       "<table border=\"1\" class=\"dataframe\">\n",
       "  <thead>\n",
       "    <tr style=\"text-align: right;\">\n",
       "      <th></th>\n",
       "      <th>incident_cause</th>\n",
       "      <th>claim_date</th>\n",
       "      <th>claim_area</th>\n",
       "      <th>police_report</th>\n",
       "      <th>claim_type</th>\n",
       "      <th>claim_amount</th>\n",
       "      <th>fraudulent</th>\n",
       "      <th>gender</th>\n",
       "      <th>DateOfBirth</th>\n",
       "      <th>State</th>\n",
       "      <th>Contact</th>\n",
       "      <th>Segment</th>\n",
       "    </tr>\n",
       "  </thead>\n",
       "  <tbody>\n",
       "    <tr>\n",
       "      <th>0</th>\n",
       "      <td>Driver error</td>\n",
       "      <td>11/27/2017</td>\n",
       "      <td>Auto</td>\n",
       "      <td>No</td>\n",
       "      <td>Material only</td>\n",
       "      <td>$2980</td>\n",
       "      <td>No</td>\n",
       "      <td>Female</td>\n",
       "      <td>12-Jan-79</td>\n",
       "      <td>VT</td>\n",
       "      <td>789-916-8172</td>\n",
       "      <td>Platinum</td>\n",
       "    </tr>\n",
       "    <tr>\n",
       "      <th>1</th>\n",
       "      <td>Crime</td>\n",
       "      <td>10/03/2018</td>\n",
       "      <td>Home</td>\n",
       "      <td>Unknown</td>\n",
       "      <td>Material only</td>\n",
       "      <td>$2980</td>\n",
       "      <td>No</td>\n",
       "      <td>Female</td>\n",
       "      <td>13-Jan-70</td>\n",
       "      <td>ME</td>\n",
       "      <td>265-543-1264</td>\n",
       "      <td>Silver</td>\n",
       "    </tr>\n",
       "    <tr>\n",
       "      <th>2</th>\n",
       "      <td>Other driver error</td>\n",
       "      <td>02/02/2018</td>\n",
       "      <td>Auto</td>\n",
       "      <td>No</td>\n",
       "      <td>Material only</td>\n",
       "      <td>$3369.5</td>\n",
       "      <td>Yes</td>\n",
       "      <td>Female</td>\n",
       "      <td>11-Mar-84</td>\n",
       "      <td>TN</td>\n",
       "      <td>798-631-4758</td>\n",
       "      <td>Silver</td>\n",
       "    </tr>\n",
       "    <tr>\n",
       "      <th>3</th>\n",
       "      <td>Driver error</td>\n",
       "      <td>04/04/2018</td>\n",
       "      <td>Auto</td>\n",
       "      <td>No</td>\n",
       "      <td>Material only</td>\n",
       "      <td>$1950</td>\n",
       "      <td>No</td>\n",
       "      <td>Female</td>\n",
       "      <td>11-Mar-84</td>\n",
       "      <td>TN</td>\n",
       "      <td>798-631-4758</td>\n",
       "      <td>Silver</td>\n",
       "    </tr>\n",
       "    <tr>\n",
       "      <th>4</th>\n",
       "      <td>Natural causes</td>\n",
       "      <td>06/17/2018</td>\n",
       "      <td>Auto</td>\n",
       "      <td>No</td>\n",
       "      <td>Material only</td>\n",
       "      <td>$1680</td>\n",
       "      <td>No</td>\n",
       "      <td>Female</td>\n",
       "      <td>01-May-86</td>\n",
       "      <td>MA</td>\n",
       "      <td>413-187-7945</td>\n",
       "      <td>Silver</td>\n",
       "    </tr>\n",
       "    <tr>\n",
       "      <th>...</th>\n",
       "      <td>...</td>\n",
       "      <td>...</td>\n",
       "      <td>...</td>\n",
       "      <td>...</td>\n",
       "      <td>...</td>\n",
       "      <td>...</td>\n",
       "      <td>...</td>\n",
       "      <td>...</td>\n",
       "      <td>...</td>\n",
       "      <td>...</td>\n",
       "      <td>...</td>\n",
       "      <td>...</td>\n",
       "    </tr>\n",
       "    <tr>\n",
       "      <th>1080</th>\n",
       "      <td>Other driver error</td>\n",
       "      <td>09/06/2018</td>\n",
       "      <td>Auto</td>\n",
       "      <td>Yes</td>\n",
       "      <td>Material only</td>\n",
       "      <td>$1770</td>\n",
       "      <td>No</td>\n",
       "      <td>Female</td>\n",
       "      <td>15-Mar-81</td>\n",
       "      <td>ND</td>\n",
       "      <td>459-425-4319</td>\n",
       "      <td>Platinum</td>\n",
       "    </tr>\n",
       "    <tr>\n",
       "      <th>1081</th>\n",
       "      <td>Other causes</td>\n",
       "      <td>05/09/2017</td>\n",
       "      <td>Home</td>\n",
       "      <td>No</td>\n",
       "      <td>Material only</td>\n",
       "      <td>$2800</td>\n",
       "      <td>No</td>\n",
       "      <td>Female</td>\n",
       "      <td>07-Jul-96</td>\n",
       "      <td>ID</td>\n",
       "      <td>529-462-1635</td>\n",
       "      <td>Silver</td>\n",
       "    </tr>\n",
       "    <tr>\n",
       "      <th>1082</th>\n",
       "      <td>Other driver error</td>\n",
       "      <td>05/15/2017</td>\n",
       "      <td>Auto</td>\n",
       "      <td>Yes</td>\n",
       "      <td>Injury only</td>\n",
       "      <td>$33080</td>\n",
       "      <td>No</td>\n",
       "      <td>Male</td>\n",
       "      <td>11-Apr-90</td>\n",
       "      <td>WI</td>\n",
       "      <td>712-651-9613</td>\n",
       "      <td>Gold</td>\n",
       "    </tr>\n",
       "    <tr>\n",
       "      <th>1083</th>\n",
       "      <td>Other driver error</td>\n",
       "      <td>04/18/2017</td>\n",
       "      <td>Auto</td>\n",
       "      <td>No</td>\n",
       "      <td>Material only</td>\n",
       "      <td>$2840</td>\n",
       "      <td>No</td>\n",
       "      <td>Female</td>\n",
       "      <td>22-Oct-64</td>\n",
       "      <td>LA</td>\n",
       "      <td>469-345-5617</td>\n",
       "      <td>Silver</td>\n",
       "    </tr>\n",
       "    <tr>\n",
       "      <th>1084</th>\n",
       "      <td>Natural causes</td>\n",
       "      <td>03/16/2017</td>\n",
       "      <td>Auto</td>\n",
       "      <td>No</td>\n",
       "      <td>Material only</td>\n",
       "      <td>$1490</td>\n",
       "      <td>No</td>\n",
       "      <td>Male</td>\n",
       "      <td>12-Jul-95</td>\n",
       "      <td>WY</td>\n",
       "      <td>182-385-1392</td>\n",
       "      <td>Gold</td>\n",
       "    </tr>\n",
       "  </tbody>\n",
       "</table>\n",
       "<p>1085 rows × 12 columns</p>\n",
       "</div>"
      ],
      "text/plain": [
       "          incident_cause  claim_date claim_area police_report     claim_type  \\\n",
       "0           Driver error  11/27/2017       Auto            No  Material only   \n",
       "1                  Crime  10/03/2018       Home       Unknown  Material only   \n",
       "2     Other driver error  02/02/2018       Auto            No  Material only   \n",
       "3           Driver error  04/04/2018       Auto            No  Material only   \n",
       "4         Natural causes  06/17/2018       Auto            No  Material only   \n",
       "...                  ...         ...        ...           ...            ...   \n",
       "1080  Other driver error  09/06/2018       Auto           Yes  Material only   \n",
       "1081        Other causes  05/09/2017       Home            No  Material only   \n",
       "1082  Other driver error  05/15/2017       Auto           Yes    Injury only   \n",
       "1083  Other driver error  04/18/2017       Auto            No  Material only   \n",
       "1084      Natural causes  03/16/2017       Auto            No  Material only   \n",
       "\n",
       "     claim_amount fraudulent  gender DateOfBirth State       Contact   Segment  \n",
       "0           $2980         No  Female   12-Jan-79    VT  789-916-8172  Platinum  \n",
       "1           $2980         No  Female   13-Jan-70    ME  265-543-1264    Silver  \n",
       "2         $3369.5        Yes  Female   11-Mar-84    TN  798-631-4758    Silver  \n",
       "3           $1950         No  Female   11-Mar-84    TN  798-631-4758    Silver  \n",
       "4           $1680         No  Female   01-May-86    MA  413-187-7945    Silver  \n",
       "...           ...        ...     ...         ...   ...           ...       ...  \n",
       "1080        $1770         No  Female   15-Mar-81    ND  459-425-4319  Platinum  \n",
       "1081        $2800         No  Female   07-Jul-96    ID  529-462-1635    Silver  \n",
       "1082       $33080         No    Male   11-Apr-90    WI  712-651-9613      Gold  \n",
       "1083        $2840         No  Female   22-Oct-64    LA  469-345-5617    Silver  \n",
       "1084        $1490         No    Male   12-Jul-95    WY  182-385-1392      Gold  \n",
       "\n",
       "[1085 rows x 12 columns]"
      ]
     },
     "execution_count": 10,
     "metadata": {},
     "output_type": "execute_result"
    }
   ],
   "source": [
    "insurance.select_dtypes(object)"
   ]
  },
  {
   "cell_type": "code",
   "execution_count": 11,
   "id": "26c0742d-c6ba-4161-a112-9bbdca4bea9c",
   "metadata": {},
   "outputs": [
    {
     "data": {
      "text/html": [
       "<div>\n",
       "<style scoped>\n",
       "    .dataframe tbody tr th:only-of-type {\n",
       "        vertical-align: middle;\n",
       "    }\n",
       "\n",
       "    .dataframe tbody tr th {\n",
       "        vertical-align: top;\n",
       "    }\n",
       "\n",
       "    .dataframe thead th {\n",
       "        text-align: right;\n",
       "    }\n",
       "</style>\n",
       "<table border=\"1\" class=\"dataframe\">\n",
       "  <thead>\n",
       "    <tr style=\"text-align: right;\">\n",
       "      <th></th>\n",
       "      <th>claim_id</th>\n",
       "      <th>customer_id</th>\n",
       "      <th>total_policy_claims</th>\n",
       "      <th>CUST_ID</th>\n",
       "    </tr>\n",
       "  </thead>\n",
       "  <tbody>\n",
       "    <tr>\n",
       "      <th>0</th>\n",
       "      <td>54004764</td>\n",
       "      <td>21868593</td>\n",
       "      <td>1.0</td>\n",
       "      <td>21868593</td>\n",
       "    </tr>\n",
       "    <tr>\n",
       "      <th>1</th>\n",
       "      <td>33985796</td>\n",
       "      <td>75740424</td>\n",
       "      <td>3.0</td>\n",
       "      <td>75740424</td>\n",
       "    </tr>\n",
       "    <tr>\n",
       "      <th>2</th>\n",
       "      <td>53522022</td>\n",
       "      <td>30308357</td>\n",
       "      <td>1.0</td>\n",
       "      <td>30308357</td>\n",
       "    </tr>\n",
       "    <tr>\n",
       "      <th>3</th>\n",
       "      <td>63017412</td>\n",
       "      <td>30308357</td>\n",
       "      <td>6.0</td>\n",
       "      <td>30308357</td>\n",
       "    </tr>\n",
       "    <tr>\n",
       "      <th>4</th>\n",
       "      <td>13015401</td>\n",
       "      <td>47830476</td>\n",
       "      <td>1.0</td>\n",
       "      <td>47830476</td>\n",
       "    </tr>\n",
       "    <tr>\n",
       "      <th>...</th>\n",
       "      <td>...</td>\n",
       "      <td>...</td>\n",
       "      <td>...</td>\n",
       "      <td>...</td>\n",
       "    </tr>\n",
       "    <tr>\n",
       "      <th>1080</th>\n",
       "      <td>62020796</td>\n",
       "      <td>79539873</td>\n",
       "      <td>1.0</td>\n",
       "      <td>79539873</td>\n",
       "    </tr>\n",
       "    <tr>\n",
       "      <th>1081</th>\n",
       "      <td>63269067</td>\n",
       "      <td>42364152</td>\n",
       "      <td>1.0</td>\n",
       "      <td>42364152</td>\n",
       "    </tr>\n",
       "    <tr>\n",
       "      <th>1082</th>\n",
       "      <td>22690595</td>\n",
       "      <td>19888166</td>\n",
       "      <td>2.0</td>\n",
       "      <td>19888166</td>\n",
       "    </tr>\n",
       "    <tr>\n",
       "      <th>1083</th>\n",
       "      <td>12376894</td>\n",
       "      <td>11256802</td>\n",
       "      <td>4.0</td>\n",
       "      <td>11256802</td>\n",
       "    </tr>\n",
       "    <tr>\n",
       "      <th>1084</th>\n",
       "      <td>63226031</td>\n",
       "      <td>61575264</td>\n",
       "      <td>1.0</td>\n",
       "      <td>61575264</td>\n",
       "    </tr>\n",
       "  </tbody>\n",
       "</table>\n",
       "<p>1085 rows × 4 columns</p>\n",
       "</div>"
      ],
      "text/plain": [
       "      claim_id  customer_id  total_policy_claims   CUST_ID\n",
       "0     54004764     21868593                  1.0  21868593\n",
       "1     33985796     75740424                  3.0  75740424\n",
       "2     53522022     30308357                  1.0  30308357\n",
       "3     63017412     30308357                  6.0  30308357\n",
       "4     13015401     47830476                  1.0  47830476\n",
       "...        ...          ...                  ...       ...\n",
       "1080  62020796     79539873                  1.0  79539873\n",
       "1081  63269067     42364152                  1.0  42364152\n",
       "1082  22690595     19888166                  2.0  19888166\n",
       "1083  12376894     11256802                  4.0  11256802\n",
       "1084  63226031     61575264                  1.0  61575264\n",
       "\n",
       "[1085 rows x 4 columns]"
      ]
     },
     "execution_count": 11,
     "metadata": {},
     "output_type": "execute_result"
    }
   ],
   "source": [
    "insurance.select_dtypes(['int','float'])"
   ]
  },
  {
   "cell_type": "code",
   "execution_count": 12,
   "id": "ade7eaad-d03b-43c3-8dd4-5e26e2ee01b6",
   "metadata": {},
   "outputs": [],
   "source": [
    "insurance.drop('CUST_ID',axis=1,inplace=True)"
   ]
  },
  {
   "cell_type": "markdown",
   "id": "5f6304d2-5c3b-4fc9-9c6d-b6f071037ef5",
   "metadata": {},
   "source": [
    "### Match The Date Types Accounding To The Data"
   ]
  },
  {
   "cell_type": "markdown",
   "id": "3caca6e6-d180-4ab3-aac1-11ac51265226",
   "metadata": {
    "jp-MarkdownHeadingCollapsed": true
   },
   "source": [
    "### Chaning into Date Data_type "
   ]
  },
  {
   "cell_type": "code",
   "execution_count": 13,
   "id": "ad48400d-76d7-406c-9811-0ab10bcacb19",
   "metadata": {},
   "outputs": [
    {
     "data": {
      "text/plain": [
       "0       11-27-2017\n",
       "1       10-03-2018\n",
       "2       02-02-2018\n",
       "3       04-04-2018\n",
       "4       06-17-2018\n",
       "           ...    \n",
       "1080    09-06-2018\n",
       "1081    05-09-2017\n",
       "1082    05-15-2017\n",
       "1083    04-18-2017\n",
       "1084    03-16-2017\n",
       "Name: claim_date, Length: 1085, dtype: object"
      ]
     },
     "execution_count": 13,
     "metadata": {},
     "output_type": "execute_result"
    }
   ],
   "source": [
    "insurance.claim_date.str.replace('/','-')"
   ]
  },
  {
   "cell_type": "code",
   "execution_count": 14,
   "id": "5c9e188f-c469-4cfa-a466-407eafed041f",
   "metadata": {},
   "outputs": [],
   "source": [
    "insurance[\"claim_date\"]= insurance[\"claim_date\"].apply(pd.to_datetime)"
   ]
  },
  {
   "cell_type": "code",
   "execution_count": 15,
   "id": "b57cc498-3ff8-4777-a86a-ecbd237b3972",
   "metadata": {},
   "outputs": [
    {
     "name": "stderr",
     "output_type": "stream",
     "text": [
      "C:\\Users\\RADIANT COMPUTERS\\AppData\\Local\\Temp\\ipykernel_11124\\2378573518.py:1: UserWarning: Could not infer format, so each element will be parsed individually, falling back to `dateutil`. To ensure parsing is consistent and as-expected, please specify a format.\n",
      "  insurance[\"DateOfBirth\"]= insurance[\"DateOfBirth\"].astype(\"datetime64[ns]\",format ('d%B%y'))\n"
     ]
    }
   ],
   "source": [
    "insurance[\"DateOfBirth\"]= insurance[\"DateOfBirth\"].astype(\"datetime64[ns]\",format ('d%B%y'))"
   ]
  },
  {
   "cell_type": "code",
   "execution_count": 16,
   "id": "a7a8c490-59e4-4bae-95c1-286d3d970c06",
   "metadata": {},
   "outputs": [],
   "source": [
    "insurance['DateOfBirth']=insurance['DateOfBirth'].apply(lambda x:x.replace(year=x.year-100) if x.year>2000 else x)"
   ]
  },
  {
   "cell_type": "code",
   "execution_count": 17,
   "id": "c949f54f-20df-4d24-9f3f-63fefc65a977",
   "metadata": {},
   "outputs": [
    {
     "data": {
      "text/plain": [
       "0      1979-01-12\n",
       "1      1970-01-13\n",
       "2      1984-03-11\n",
       "3      1984-03-11\n",
       "4      1986-05-01\n",
       "          ...    \n",
       "1080   1981-03-15\n",
       "1081   1996-07-07\n",
       "1082   1990-04-11\n",
       "1083   1964-10-22\n",
       "1084   1995-07-12\n",
       "Name: DateOfBirth, Length: 1085, dtype: datetime64[ns]"
      ]
     },
     "execution_count": 17,
     "metadata": {},
     "output_type": "execute_result"
    }
   ],
   "source": [
    "insurance['DateOfBirth']"
   ]
  },
  {
   "cell_type": "markdown",
   "id": "c25c0dac-aa28-4079-9d73-1ca6bcdc9f0e",
   "metadata": {
    "jp-MarkdownHeadingCollapsed": true
   },
   "source": [
    "### Chaning into Object Data_type"
   ]
  },
  {
   "cell_type": "code",
   "execution_count": 18,
   "id": "e7f0fab5-baf5-44a3-8d92-cd825493061d",
   "metadata": {},
   "outputs": [],
   "source": [
    "insurance['claim_id'] = insurance['claim_id'].astype(object)\n"
   ]
  },
  {
   "cell_type": "code",
   "execution_count": 19,
   "id": "f8384faf-123b-49e0-9cc1-2dada46b03ed",
   "metadata": {},
   "outputs": [],
   "source": [
    "insurance['customer_id'] = insurance['customer_id'].astype(object)\n"
   ]
  },
  {
   "cell_type": "markdown",
   "id": "99c9842d-bc73-4fcf-8141-b758eba02fcc",
   "metadata": {
    "jp-MarkdownHeadingCollapsed": true
   },
   "source": [
    "### Chaning into Numerical  Data_typer emove the $ sign from claim_amount"
   ]
  },
  {
   "cell_type": "code",
   "execution_count": 20,
   "id": "7b32543a-3ce7-42be-9541-8f0f8893f284",
   "metadata": {},
   "outputs": [],
   "source": [
    "insurance['claim_amount'] =insurance['claim_amount'].str.removeprefix('$')\n"
   ]
  },
  {
   "cell_type": "code",
   "execution_count": 21,
   "id": "bf49a33d-3d36-4ec7-990b-ed1b72f889ca",
   "metadata": {},
   "outputs": [],
   "source": [
    "# insurance['claim_amount']\n",
    "# insurance.claim_amount.str.replace('$',\"\",regex=True)\n",
    "insurance.claim_amount= insurance.claim_amount.astype(float)\n"
   ]
  },
  {
   "cell_type": "code",
   "execution_count": 22,
   "id": "320d5d5f-7fcb-49f3-9044-27517fe28d83",
   "metadata": {},
   "outputs": [],
   "source": [
    "# insurance.claim_amount= insurance.claim_amount.astype(float)\n"
   ]
  },
  {
   "cell_type": "code",
   "execution_count": 23,
   "id": "1bb35ff1-ca3b-48e8-a287-3483aa4900c6",
   "metadata": {},
   "outputs": [
    {
     "name": "stdout",
     "output_type": "stream",
     "text": [
      "<class 'pandas.core.frame.DataFrame'>\n",
      "RangeIndex: 1085 entries, 0 to 1084\n",
      "Data columns (total 15 columns):\n",
      " #   Column               Non-Null Count  Dtype         \n",
      "---  ------               --------------  -----         \n",
      " 0   claim_id             1085 non-null   object        \n",
      " 1   customer_id          1085 non-null   object        \n",
      " 2   incident_cause       1085 non-null   object        \n",
      " 3   claim_date           1085 non-null   datetime64[ns]\n",
      " 4   claim_area           1085 non-null   object        \n",
      " 5   police_report        1085 non-null   object        \n",
      " 6   claim_type           1085 non-null   object        \n",
      " 7   claim_amount         1020 non-null   float64       \n",
      " 8   total_policy_claims  1075 non-null   float64       \n",
      " 9   fraudulent           1085 non-null   object        \n",
      " 10  gender               1085 non-null   object        \n",
      " 11  DateOfBirth          1085 non-null   datetime64[ns]\n",
      " 12  State                1085 non-null   object        \n",
      " 13  Contact              1085 non-null   object        \n",
      " 14  Segment              1085 non-null   object        \n",
      "dtypes: datetime64[ns](2), float64(2), object(11)\n",
      "memory usage: 127.3+ KB\n"
     ]
    }
   ],
   "source": [
    "insurance.info()"
   ]
  },
  {
   "cell_type": "code",
   "execution_count": 24,
   "id": "71d0a5c8-388d-499b-89a3-7019e8495862",
   "metadata": {},
   "outputs": [],
   "source": [
    "# def remove_dollar_sign(value):\n",
    "#     return value.s.replace('$', '')\n",
    "\n",
    "# insurance['claim_amount'] = insurance['claim_amount'].apply(remove_dollar_sign)\n"
   ]
  },
  {
   "cell_type": "markdown",
   "id": "c12066c8-602d-484a-9089-565c1a4f8eea",
   "metadata": {
    "jp-MarkdownHeadingCollapsed": true
   },
   "source": [
    "### Create an alert flag (1,0) for all such claims\n",
    "Of all the injury claims some of them have gone unreported with the \n",
    "polie \n",
    "s"
   ]
  },
  {
   "cell_type": "code",
   "execution_count": 25,
   "id": "7e264bd6-0896-40f8-82a9-3999318856db",
   "metadata": {},
   "outputs": [
    {
     "data": {
      "text/html": [
       "<div>\n",
       "<style scoped>\n",
       "    .dataframe tbody tr th:only-of-type {\n",
       "        vertical-align: middle;\n",
       "    }\n",
       "\n",
       "    .dataframe tbody tr th {\n",
       "        vertical-align: top;\n",
       "    }\n",
       "\n",
       "    .dataframe thead th {\n",
       "        text-align: right;\n",
       "    }\n",
       "</style>\n",
       "<table border=\"1\" class=\"dataframe\">\n",
       "  <thead>\n",
       "    <tr style=\"text-align: right;\">\n",
       "      <th></th>\n",
       "      <th>claim_id</th>\n",
       "      <th>customer_id</th>\n",
       "      <th>incident_cause</th>\n",
       "      <th>claim_date</th>\n",
       "      <th>claim_area</th>\n",
       "      <th>police_report</th>\n",
       "      <th>claim_type</th>\n",
       "      <th>claim_amount</th>\n",
       "      <th>total_policy_claims</th>\n",
       "      <th>fraudulent</th>\n",
       "      <th>gender</th>\n",
       "      <th>DateOfBirth</th>\n",
       "      <th>State</th>\n",
       "      <th>Contact</th>\n",
       "      <th>Segment</th>\n",
       "    </tr>\n",
       "  </thead>\n",
       "  <tbody>\n",
       "    <tr>\n",
       "      <th>9</th>\n",
       "      <td>91475471</td>\n",
       "      <td>21831191</td>\n",
       "      <td>Driver error</td>\n",
       "      <td>2018-02-09</td>\n",
       "      <td>Auto</td>\n",
       "      <td>Unknown</td>\n",
       "      <td>Material and injury</td>\n",
       "      <td>36810.0</td>\n",
       "      <td>1.0</td>\n",
       "      <td>No</td>\n",
       "      <td>Male</td>\n",
       "      <td>1977-05-17</td>\n",
       "      <td>NH</td>\n",
       "      <td>419-712-8513</td>\n",
       "      <td>Gold</td>\n",
       "    </tr>\n",
       "    <tr>\n",
       "      <th>15</th>\n",
       "      <td>28564401</td>\n",
       "      <td>51583214</td>\n",
       "      <td>Other driver error</td>\n",
       "      <td>2017-12-10</td>\n",
       "      <td>Auto</td>\n",
       "      <td>Unknown</td>\n",
       "      <td>Material and injury</td>\n",
       "      <td>16690.0</td>\n",
       "      <td>1.0</td>\n",
       "      <td>No</td>\n",
       "      <td>Male</td>\n",
       "      <td>1999-10-31</td>\n",
       "      <td>NH</td>\n",
       "      <td>743-486-5264</td>\n",
       "      <td>Platinum</td>\n",
       "    </tr>\n",
       "    <tr>\n",
       "      <th>53</th>\n",
       "      <td>40638641</td>\n",
       "      <td>38286862</td>\n",
       "      <td>Other causes</td>\n",
       "      <td>2017-10-31</td>\n",
       "      <td>Auto</td>\n",
       "      <td>Unknown</td>\n",
       "      <td>Material and injury</td>\n",
       "      <td>41850.0</td>\n",
       "      <td>1.0</td>\n",
       "      <td>No</td>\n",
       "      <td>Female</td>\n",
       "      <td>1994-11-24</td>\n",
       "      <td>NJ</td>\n",
       "      <td>791-831-2514</td>\n",
       "      <td>Gold</td>\n",
       "    </tr>\n",
       "    <tr>\n",
       "      <th>55</th>\n",
       "      <td>39647651</td>\n",
       "      <td>18361978</td>\n",
       "      <td>Other causes</td>\n",
       "      <td>2017-08-31</td>\n",
       "      <td>Auto</td>\n",
       "      <td>Unknown</td>\n",
       "      <td>Material and injury</td>\n",
       "      <td>25576.0</td>\n",
       "      <td>7.0</td>\n",
       "      <td>Yes</td>\n",
       "      <td>Female</td>\n",
       "      <td>1994-07-10</td>\n",
       "      <td>CA</td>\n",
       "      <td>463-645-2453</td>\n",
       "      <td>Platinum</td>\n",
       "    </tr>\n",
       "    <tr>\n",
       "      <th>59</th>\n",
       "      <td>54192772</td>\n",
       "      <td>61051505</td>\n",
       "      <td>Other driver error</td>\n",
       "      <td>2017-07-01</td>\n",
       "      <td>Auto</td>\n",
       "      <td>Unknown</td>\n",
       "      <td>Material and injury</td>\n",
       "      <td>35765.0</td>\n",
       "      <td>1.0</td>\n",
       "      <td>Yes</td>\n",
       "      <td>Male</td>\n",
       "      <td>1968-02-05</td>\n",
       "      <td>OH</td>\n",
       "      <td>649-461-2967</td>\n",
       "      <td>Platinum</td>\n",
       "    </tr>\n",
       "    <tr>\n",
       "      <th>...</th>\n",
       "      <td>...</td>\n",
       "      <td>...</td>\n",
       "      <td>...</td>\n",
       "      <td>...</td>\n",
       "      <td>...</td>\n",
       "      <td>...</td>\n",
       "      <td>...</td>\n",
       "      <td>...</td>\n",
       "      <td>...</td>\n",
       "      <td>...</td>\n",
       "      <td>...</td>\n",
       "      <td>...</td>\n",
       "      <td>...</td>\n",
       "      <td>...</td>\n",
       "      <td>...</td>\n",
       "    </tr>\n",
       "    <tr>\n",
       "      <th>985</th>\n",
       "      <td>50022306</td>\n",
       "      <td>10198314</td>\n",
       "      <td>Other causes</td>\n",
       "      <td>2018-05-01</td>\n",
       "      <td>Auto</td>\n",
       "      <td>Unknown</td>\n",
       "      <td>Injury only</td>\n",
       "      <td>28658.0</td>\n",
       "      <td>1.0</td>\n",
       "      <td>Yes</td>\n",
       "      <td>Female</td>\n",
       "      <td>1980-11-10</td>\n",
       "      <td>WI</td>\n",
       "      <td>176-861-1936</td>\n",
       "      <td>Platinum</td>\n",
       "    </tr>\n",
       "    <tr>\n",
       "      <th>990</th>\n",
       "      <td>16402994</td>\n",
       "      <td>86164274</td>\n",
       "      <td>Other causes</td>\n",
       "      <td>2018-09-26</td>\n",
       "      <td>Home</td>\n",
       "      <td>Unknown</td>\n",
       "      <td>Material and injury</td>\n",
       "      <td>15760.0</td>\n",
       "      <td>1.0</td>\n",
       "      <td>No</td>\n",
       "      <td>Male</td>\n",
       "      <td>1962-12-28</td>\n",
       "      <td>SC</td>\n",
       "      <td>843-361-2796</td>\n",
       "      <td>Platinum</td>\n",
       "    </tr>\n",
       "    <tr>\n",
       "      <th>1023</th>\n",
       "      <td>30903408</td>\n",
       "      <td>77134414</td>\n",
       "      <td>Other driver error</td>\n",
       "      <td>2017-01-07</td>\n",
       "      <td>Auto</td>\n",
       "      <td>Unknown</td>\n",
       "      <td>Injury only</td>\n",
       "      <td>28760.0</td>\n",
       "      <td>1.0</td>\n",
       "      <td>No</td>\n",
       "      <td>Male</td>\n",
       "      <td>1983-07-10</td>\n",
       "      <td>AL</td>\n",
       "      <td>693-239-2865</td>\n",
       "      <td>Silver</td>\n",
       "    </tr>\n",
       "    <tr>\n",
       "      <th>1051</th>\n",
       "      <td>93043462</td>\n",
       "      <td>81634435</td>\n",
       "      <td>Other driver error</td>\n",
       "      <td>2017-01-27</td>\n",
       "      <td>Home</td>\n",
       "      <td>Unknown</td>\n",
       "      <td>Material and injury</td>\n",
       "      <td>NaN</td>\n",
       "      <td>1.0</td>\n",
       "      <td>No</td>\n",
       "      <td>Male</td>\n",
       "      <td>1988-07-30</td>\n",
       "      <td>AR</td>\n",
       "      <td>937-675-5842</td>\n",
       "      <td>Gold</td>\n",
       "    </tr>\n",
       "    <tr>\n",
       "      <th>1074</th>\n",
       "      <td>36599575</td>\n",
       "      <td>87596868</td>\n",
       "      <td>Driver error</td>\n",
       "      <td>2018-10-09</td>\n",
       "      <td>Auto</td>\n",
       "      <td>Unknown</td>\n",
       "      <td>Injury only</td>\n",
       "      <td>33330.0</td>\n",
       "      <td>2.0</td>\n",
       "      <td>No</td>\n",
       "      <td>Male</td>\n",
       "      <td>1961-11-18</td>\n",
       "      <td>AZ</td>\n",
       "      <td>573-396-3182</td>\n",
       "      <td>Silver</td>\n",
       "    </tr>\n",
       "  </tbody>\n",
       "</table>\n",
       "<p>150 rows × 15 columns</p>\n",
       "</div>"
      ],
      "text/plain": [
       "      claim_id customer_id      incident_cause claim_date claim_area  \\\n",
       "9     91475471    21831191        Driver error 2018-02-09       Auto   \n",
       "15    28564401    51583214  Other driver error 2017-12-10       Auto   \n",
       "53    40638641    38286862        Other causes 2017-10-31       Auto   \n",
       "55    39647651    18361978        Other causes 2017-08-31       Auto   \n",
       "59    54192772    61051505  Other driver error 2017-07-01       Auto   \n",
       "...        ...         ...                 ...        ...        ...   \n",
       "985   50022306    10198314        Other causes 2018-05-01       Auto   \n",
       "990   16402994    86164274        Other causes 2018-09-26       Home   \n",
       "1023  30903408    77134414  Other driver error 2017-01-07       Auto   \n",
       "1051  93043462    81634435  Other driver error 2017-01-27       Home   \n",
       "1074  36599575    87596868        Driver error 2018-10-09       Auto   \n",
       "\n",
       "     police_report           claim_type  claim_amount  total_policy_claims  \\\n",
       "9          Unknown  Material and injury       36810.0                  1.0   \n",
       "15         Unknown  Material and injury       16690.0                  1.0   \n",
       "53         Unknown  Material and injury       41850.0                  1.0   \n",
       "55         Unknown  Material and injury       25576.0                  7.0   \n",
       "59         Unknown  Material and injury       35765.0                  1.0   \n",
       "...            ...                  ...           ...                  ...   \n",
       "985        Unknown          Injury only       28658.0                  1.0   \n",
       "990        Unknown  Material and injury       15760.0                  1.0   \n",
       "1023       Unknown          Injury only       28760.0                  1.0   \n",
       "1051       Unknown  Material and injury           NaN                  1.0   \n",
       "1074       Unknown          Injury only       33330.0                  2.0   \n",
       "\n",
       "     fraudulent  gender DateOfBirth State       Contact   Segment  \n",
       "9            No    Male  1977-05-17    NH  419-712-8513      Gold  \n",
       "15           No    Male  1999-10-31    NH  743-486-5264  Platinum  \n",
       "53           No  Female  1994-11-24    NJ  791-831-2514      Gold  \n",
       "55          Yes  Female  1994-07-10    CA  463-645-2453  Platinum  \n",
       "59          Yes    Male  1968-02-05    OH  649-461-2967  Platinum  \n",
       "...         ...     ...         ...   ...           ...       ...  \n",
       "985         Yes  Female  1980-11-10    WI  176-861-1936  Platinum  \n",
       "990          No    Male  1962-12-28    SC  843-361-2796  Platinum  \n",
       "1023         No    Male  1983-07-10    AL  693-239-2865    Silver  \n",
       "1051         No    Male  1988-07-30    AR  937-675-5842      Gold  \n",
       "1074         No    Male  1961-11-18    AZ  573-396-3182    Silver  \n",
       "\n",
       "[150 rows x 15 columns]"
      ]
     },
     "execution_count": 25,
     "metadata": {},
     "output_type": "execute_result"
    }
   ],
   "source": [
    "insurance[(insurance['police_report']=='Unknown') &  (insurance['claim_type'].isin(['Injury only', 'Material and injury']))]"
   ]
  },
  {
   "cell_type": "code",
   "execution_count": 26,
   "id": "5f914c0b-bd2c-41df-9fe6-ad640577c392",
   "metadata": {},
   "outputs": [],
   "source": [
    "# insurance[insurance['claim_type'] != 'Material only']\n",
    "# set(insurance['claim_type'])"
   ]
  },
  {
   "cell_type": "code",
   "execution_count": 27,
   "id": "8abf762f-192f-47c6-a2ea-3ead44e6c808",
   "metadata": {},
   "outputs": [],
   "source": [
    "insurance['injury_claim'] = insurance.apply(lambda x: 1 if x['police_report'] == \"Unknown\" and x['claim_type'] != 'Material only' else 0, axis=1)"
   ]
  },
  {
   "cell_type": "code",
   "execution_count": 28,
   "id": "6cf5fc1c-29fd-455a-a97d-f843b8e57226",
   "metadata": {},
   "outputs": [
    {
     "data": {
      "text/plain": [
       "0       0\n",
       "1       0\n",
       "2       0\n",
       "3       0\n",
       "4       0\n",
       "       ..\n",
       "1080    0\n",
       "1081    0\n",
       "1082    0\n",
       "1083    0\n",
       "1084    0\n",
       "Name: injury_claim, Length: 1085, dtype: int64"
      ]
     },
     "execution_count": 28,
     "metadata": {},
     "output_type": "execute_result"
    }
   ],
   "source": [
    "insurance['injury_claim']\n",
    "\n"
   ]
  },
  {
   "cell_type": "code",
   "execution_count": null,
   "id": "f00342d4-59f9-40b0-8c47-462d6c813aaa",
   "metadata": {},
   "outputs": [],
   "source": []
  },
  {
   "cell_type": "markdown",
   "id": "1579f486-f582-42eb-b4fd-a1a6e1c5ebfe",
   "metadata": {
    "jp-MarkdownHeadingCollapsed": true
   },
   "source": [
    "### Remove duplicated records"
   ]
  },
  {
   "cell_type": "code",
   "execution_count": 29,
   "id": "5bb9d506-d8ad-4605-9212-b01fd3a44aab",
   "metadata": {},
   "outputs": [
    {
     "data": {
      "text/html": [
       "<div>\n",
       "<style scoped>\n",
       "    .dataframe tbody tr th:only-of-type {\n",
       "        vertical-align: middle;\n",
       "    }\n",
       "\n",
       "    .dataframe tbody tr th {\n",
       "        vertical-align: top;\n",
       "    }\n",
       "\n",
       "    .dataframe thead th {\n",
       "        text-align: right;\n",
       "    }\n",
       "</style>\n",
       "<table border=\"1\" class=\"dataframe\">\n",
       "  <thead>\n",
       "    <tr style=\"text-align: right;\">\n",
       "      <th></th>\n",
       "      <th>claim_id</th>\n",
       "      <th>customer_id</th>\n",
       "      <th>incident_cause</th>\n",
       "      <th>claim_date</th>\n",
       "      <th>claim_area</th>\n",
       "      <th>police_report</th>\n",
       "      <th>claim_type</th>\n",
       "      <th>claim_amount</th>\n",
       "      <th>total_policy_claims</th>\n",
       "      <th>fraudulent</th>\n",
       "      <th>gender</th>\n",
       "      <th>DateOfBirth</th>\n",
       "      <th>State</th>\n",
       "      <th>Contact</th>\n",
       "      <th>Segment</th>\n",
       "      <th>injury_claim</th>\n",
       "    </tr>\n",
       "  </thead>\n",
       "  <tbody>\n",
       "    <tr>\n",
       "      <th>3</th>\n",
       "      <td>63017412</td>\n",
       "      <td>30308357</td>\n",
       "      <td>Driver error</td>\n",
       "      <td>2018-04-04</td>\n",
       "      <td>Auto</td>\n",
       "      <td>No</td>\n",
       "      <td>Material only</td>\n",
       "      <td>1950.0</td>\n",
       "      <td>6.0</td>\n",
       "      <td>No</td>\n",
       "      <td>Female</td>\n",
       "      <td>1984-03-11</td>\n",
       "      <td>TN</td>\n",
       "      <td>798-631-4758</td>\n",
       "      <td>Silver</td>\n",
       "      <td>0</td>\n",
       "    </tr>\n",
       "    <tr>\n",
       "      <th>5</th>\n",
       "      <td>91609100</td>\n",
       "      <td>47830476</td>\n",
       "      <td>Natural causes</td>\n",
       "      <td>2017-04-12</td>\n",
       "      <td>Auto</td>\n",
       "      <td>Unknown</td>\n",
       "      <td>Material only</td>\n",
       "      <td>1440.0</td>\n",
       "      <td>1.0</td>\n",
       "      <td>No</td>\n",
       "      <td>Female</td>\n",
       "      <td>1986-05-01</td>\n",
       "      <td>MA</td>\n",
       "      <td>413-187-7945</td>\n",
       "      <td>Silver</td>\n",
       "      <td>0</td>\n",
       "    </tr>\n",
       "    <tr>\n",
       "      <th>7</th>\n",
       "      <td>39219616</td>\n",
       "      <td>19269962</td>\n",
       "      <td>Other causes</td>\n",
       "      <td>2018-09-26</td>\n",
       "      <td>Auto</td>\n",
       "      <td>No</td>\n",
       "      <td>Material only</td>\n",
       "      <td>2240.0</td>\n",
       "      <td>2.0</td>\n",
       "      <td>No</td>\n",
       "      <td>Male</td>\n",
       "      <td>1977-05-13</td>\n",
       "      <td>NV</td>\n",
       "      <td>956-871-8691</td>\n",
       "      <td>Gold</td>\n",
       "      <td>0</td>\n",
       "    </tr>\n",
       "    <tr>\n",
       "      <th>9</th>\n",
       "      <td>91475471</td>\n",
       "      <td>21831191</td>\n",
       "      <td>Driver error</td>\n",
       "      <td>2018-02-09</td>\n",
       "      <td>Auto</td>\n",
       "      <td>Unknown</td>\n",
       "      <td>Material and injury</td>\n",
       "      <td>36810.0</td>\n",
       "      <td>1.0</td>\n",
       "      <td>No</td>\n",
       "      <td>Male</td>\n",
       "      <td>1977-05-17</td>\n",
       "      <td>NH</td>\n",
       "      <td>419-712-8513</td>\n",
       "      <td>Gold</td>\n",
       "      <td>1</td>\n",
       "    </tr>\n",
       "    <tr>\n",
       "      <th>608</th>\n",
       "      <td>78221963</td>\n",
       "      <td>84147585</td>\n",
       "      <td>Driver error</td>\n",
       "      <td>2018-04-10</td>\n",
       "      <td>Auto</td>\n",
       "      <td>Yes</td>\n",
       "      <td>Injury only</td>\n",
       "      <td>14430.0</td>\n",
       "      <td>4.0</td>\n",
       "      <td>No</td>\n",
       "      <td>Male</td>\n",
       "      <td>1972-10-18</td>\n",
       "      <td>AK</td>\n",
       "      <td>743-569-4783</td>\n",
       "      <td>Gold</td>\n",
       "      <td>0</td>\n",
       "    </tr>\n",
       "    <tr>\n",
       "      <th>610</th>\n",
       "      <td>1654201</td>\n",
       "      <td>85357756</td>\n",
       "      <td>Driver error</td>\n",
       "      <td>2018-06-23</td>\n",
       "      <td>Auto</td>\n",
       "      <td>Unknown</td>\n",
       "      <td>Material only</td>\n",
       "      <td>2510.0</td>\n",
       "      <td>1.0</td>\n",
       "      <td>No</td>\n",
       "      <td>Male</td>\n",
       "      <td>1970-01-02</td>\n",
       "      <td>PA</td>\n",
       "      <td>915-698-3649</td>\n",
       "      <td>Platinum</td>\n",
       "      <td>0</td>\n",
       "    </tr>\n",
       "    <tr>\n",
       "      <th>612</th>\n",
       "      <td>41779510</td>\n",
       "      <td>53539195</td>\n",
       "      <td>Driver error</td>\n",
       "      <td>2018-10-03</td>\n",
       "      <td>Home</td>\n",
       "      <td>No</td>\n",
       "      <td>Injury only</td>\n",
       "      <td>25040.0</td>\n",
       "      <td>1.0</td>\n",
       "      <td>No</td>\n",
       "      <td>Male</td>\n",
       "      <td>1989-10-02</td>\n",
       "      <td>NV</td>\n",
       "      <td>914-342-8239</td>\n",
       "      <td>Gold</td>\n",
       "      <td>0</td>\n",
       "    </tr>\n",
       "  </tbody>\n",
       "</table>\n",
       "</div>"
      ],
      "text/plain": [
       "     claim_id customer_id  incident_cause claim_date claim_area police_report  \\\n",
       "3    63017412    30308357    Driver error 2018-04-04       Auto            No   \n",
       "5    91609100    47830476  Natural causes 2017-04-12       Auto       Unknown   \n",
       "7    39219616    19269962    Other causes 2018-09-26       Auto            No   \n",
       "9    91475471    21831191    Driver error 2018-02-09       Auto       Unknown   \n",
       "608  78221963    84147585    Driver error 2018-04-10       Auto           Yes   \n",
       "610   1654201    85357756    Driver error 2018-06-23       Auto       Unknown   \n",
       "612  41779510    53539195    Driver error 2018-10-03       Home            No   \n",
       "\n",
       "              claim_type  claim_amount  total_policy_claims fraudulent  \\\n",
       "3          Material only        1950.0                  6.0         No   \n",
       "5          Material only        1440.0                  1.0         No   \n",
       "7          Material only        2240.0                  2.0         No   \n",
       "9    Material and injury       36810.0                  1.0         No   \n",
       "608          Injury only       14430.0                  4.0         No   \n",
       "610        Material only        2510.0                  1.0         No   \n",
       "612          Injury only       25040.0                  1.0         No   \n",
       "\n",
       "     gender DateOfBirth State       Contact   Segment  injury_claim  \n",
       "3    Female  1984-03-11    TN  798-631-4758    Silver             0  \n",
       "5    Female  1986-05-01    MA  413-187-7945    Silver             0  \n",
       "7      Male  1977-05-13    NV  956-871-8691      Gold             0  \n",
       "9      Male  1977-05-17    NH  419-712-8513      Gold             1  \n",
       "608    Male  1972-10-18    AK  743-569-4783      Gold             0  \n",
       "610    Male  1970-01-02    PA  915-698-3649  Platinum             0  \n",
       "612    Male  1989-10-02    NV  914-342-8239      Gold             0  "
      ]
     },
     "execution_count": 29,
     "metadata": {},
     "output_type": "execute_result"
    }
   ],
   "source": [
    "insurance[insurance.duplicated(subset=['customer_id'])]\n"
   ]
  },
  {
   "cell_type": "code",
   "execution_count": 30,
   "id": "1a6ca203-c147-45ad-9e33-b55b17356fc2",
   "metadata": {},
   "outputs": [],
   "source": [
    "insurance.sort_values(by='claim_date',ascending=True,inplace=True\n",
    "                     )"
   ]
  },
  {
   "cell_type": "code",
   "execution_count": 31,
   "id": "987caf57-94ad-4bb3-9450-d55ef2acee7b",
   "metadata": {},
   "outputs": [],
   "source": [
    "insurance.drop_duplicates(subset=['customer_id'],keep='first',inplace=True)"
   ]
  },
  {
   "cell_type": "code",
   "execution_count": null,
   "id": "a140bd4d-d5ec-4ad3-8710-313ca830c915",
   "metadata": {},
   "outputs": [],
   "source": []
  },
  {
   "cell_type": "markdown",
   "id": "3446c86f-2ace-4d2b-90c2-cb2b4546a046",
   "metadata": {
    "jp-MarkdownHeadingCollapsed": true
   },
   "source": [
    "###  impute the missing values with an mean for continuous and mode for categorical"
   ]
  },
  {
   "cell_type": "code",
   "execution_count": 32,
   "id": "005f621e-7d76-405c-b46d-230da65e95eb",
   "metadata": {},
   "outputs": [
    {
     "data": {
      "text/plain": [
       "claim_id                0\n",
       "customer_id             0\n",
       "incident_cause          0\n",
       "claim_date              0\n",
       "claim_area              0\n",
       "police_report           0\n",
       "claim_type              0\n",
       "claim_amount           65\n",
       "total_policy_claims    10\n",
       "fraudulent              0\n",
       "gender                  0\n",
       "DateOfBirth             0\n",
       "State                   0\n",
       "Contact                 0\n",
       "Segment                 0\n",
       "injury_claim            0\n",
       "dtype: int64"
      ]
     },
     "execution_count": 32,
     "metadata": {},
     "output_type": "execute_result"
    }
   ],
   "source": [
    "insurance.isnull().sum()"
   ]
  },
  {
   "cell_type": "code",
   "execution_count": 33,
   "id": "6ed3b604-2345-4789-83e5-995a3b90c460",
   "metadata": {},
   "outputs": [],
   "source": [
    "cl_amount=round(insurance.claim_amount.mean())"
   ]
  },
  {
   "cell_type": "code",
   "execution_count": 34,
   "id": "1a833d3c-52ca-4762-9dc5-78f17750acd1",
   "metadata": {},
   "outputs": [],
   "source": [
    "insurance['claim_amount'].fillna(cl_amount,inplace= True)"
   ]
  },
  {
   "cell_type": "code",
   "execution_count": 35,
   "id": "86a817e8-8f5e-44ab-a9a8-cf068a670209",
   "metadata": {},
   "outputs": [
    {
     "data": {
      "text/plain": [
       "0"
      ]
     },
     "execution_count": 35,
     "metadata": {},
     "output_type": "execute_result"
    }
   ],
   "source": [
    "insurance['claim_amount'].isna().sum()"
   ]
  },
  {
   "cell_type": "code",
   "execution_count": 36,
   "id": "b4ecbc42-2d39-4da1-8dd7-6ddc1be70c03",
   "metadata": {},
   "outputs": [],
   "source": [
    "policy_claim=round(insurance.total_policy_claims.mean())"
   ]
  },
  {
   "cell_type": "code",
   "execution_count": 37,
   "id": "6211680e-0fec-4a5d-8f50-95a7d5ab79c1",
   "metadata": {},
   "outputs": [],
   "source": [
    "insurance.total_policy_claims.fillna(policy_claim,inplace= True)"
   ]
  },
  {
   "cell_type": "code",
   "execution_count": 38,
   "id": "9090f9d7-1a64-4e8c-af10-ca71ccc94c9b",
   "metadata": {},
   "outputs": [
    {
     "data": {
      "text/plain": [
       "0"
      ]
     },
     "execution_count": 38,
     "metadata": {},
     "output_type": "execute_result"
    }
   ],
   "source": [
    "insurance['total_policy_claims'].isna().sum()"
   ]
  },
  {
   "cell_type": "code",
   "execution_count": null,
   "id": "c3beaf4d-0e64-43b1-9415-2d6de0661032",
   "metadata": {},
   "outputs": [],
   "source": []
  },
  {
   "cell_type": "markdown",
   "id": "20ca702e-6478-4e12-82cf-32f0257608ac",
   "metadata": {
    "jp-MarkdownHeadingCollapsed": true
   },
   "source": [
    "### Calculate the age of customers in years\n",
    "##### (Children < 18)(Youth 18-30)(\n",
    "Adult 30-)(0\n",
    "Senior >)60\n"
   ]
  },
  {
   "cell_type": "code",
   "execution_count": 39,
   "id": "5c826474-dcd9-4eef-99d2-ed6acac8d644",
   "metadata": {},
   "outputs": [],
   "source": [
    "count_age = insurance['claim_date'].median()"
   ]
  },
  {
   "cell_type": "code",
   "execution_count": 40,
   "id": "0f423f8d-c0b9-4af4-bcf3-1b74fbb7322f",
   "metadata": {},
   "outputs": [],
   "source": [
    "insurance['Age'] =(count_age-insurance['DateOfBirth']).dt.days//365"
   ]
  },
  {
   "cell_type": "code",
   "execution_count": 41,
   "id": "f598c46f-2c9c-4a2b-9228-0626719460ce",
   "metadata": {},
   "outputs": [],
   "source": [
    "def age_categore(age):\n",
    "    if age < 18:\n",
    "        return 'Children'\n",
    "    elif 18 <= age < 30:\n",
    "        return 'Youth'\n",
    "    elif 30 <= age < 60:\n",
    "        return 'Adult'\n",
    "    else:\n",
    "        return 'Senior'"
   ]
  },
  {
   "cell_type": "code",
   "execution_count": 42,
   "id": "063d2391-927f-4c14-9bcf-74dbcf3f2bbf",
   "metadata": {},
   "outputs": [],
   "source": [
    "insurance['age_category']= insurance['Age'].apply(age_categore)\n",
    "# x.apply(lambda x :'children' if x <=18 else 'youth' if 18 <x <=30 else "
   ]
  },
  {
   "cell_type": "code",
   "execution_count": 43,
   "id": "2bfe7e7d-1fc4-41bf-a0eb-337d9e9c09ef",
   "metadata": {},
   "outputs": [
    {
     "data": {
      "text/html": [
       "<div>\n",
       "<style scoped>\n",
       "    .dataframe tbody tr th:only-of-type {\n",
       "        vertical-align: middle;\n",
       "    }\n",
       "\n",
       "    .dataframe tbody tr th {\n",
       "        vertical-align: top;\n",
       "    }\n",
       "\n",
       "    .dataframe thead th {\n",
       "        text-align: right;\n",
       "    }\n",
       "</style>\n",
       "<table border=\"1\" class=\"dataframe\">\n",
       "  <thead>\n",
       "    <tr style=\"text-align: right;\">\n",
       "      <th></th>\n",
       "      <th>Age</th>\n",
       "      <th>age_category</th>\n",
       "    </tr>\n",
       "  </thead>\n",
       "  <tbody>\n",
       "    <tr>\n",
       "      <th>739</th>\n",
       "      <td>46</td>\n",
       "      <td>Adult</td>\n",
       "    </tr>\n",
       "    <tr>\n",
       "      <th>181</th>\n",
       "      <td>23</td>\n",
       "      <td>Youth</td>\n",
       "    </tr>\n",
       "    <tr>\n",
       "      <th>312</th>\n",
       "      <td>42</td>\n",
       "      <td>Adult</td>\n",
       "    </tr>\n",
       "    <tr>\n",
       "      <th>905</th>\n",
       "      <td>24</td>\n",
       "      <td>Youth</td>\n",
       "    </tr>\n",
       "    <tr>\n",
       "      <th>120</th>\n",
       "      <td>52</td>\n",
       "      <td>Adult</td>\n",
       "    </tr>\n",
       "    <tr>\n",
       "      <th>...</th>\n",
       "      <td>...</td>\n",
       "      <td>...</td>\n",
       "    </tr>\n",
       "    <tr>\n",
       "      <th>354</th>\n",
       "      <td>41</td>\n",
       "      <td>Adult</td>\n",
       "    </tr>\n",
       "    <tr>\n",
       "      <th>286</th>\n",
       "      <td>50</td>\n",
       "      <td>Adult</td>\n",
       "    </tr>\n",
       "    <tr>\n",
       "      <th>226</th>\n",
       "      <td>43</td>\n",
       "      <td>Adult</td>\n",
       "    </tr>\n",
       "    <tr>\n",
       "      <th>1077</th>\n",
       "      <td>53</td>\n",
       "      <td>Adult</td>\n",
       "    </tr>\n",
       "    <tr>\n",
       "      <th>1055</th>\n",
       "      <td>49</td>\n",
       "      <td>Adult</td>\n",
       "    </tr>\n",
       "  </tbody>\n",
       "</table>\n",
       "<p>1078 rows × 2 columns</p>\n",
       "</div>"
      ],
      "text/plain": [
       "      Age age_category\n",
       "739    46        Adult\n",
       "181    23        Youth\n",
       "312    42        Adult\n",
       "905    24        Youth\n",
       "120    52        Adult\n",
       "...   ...          ...\n",
       "354    41        Adult\n",
       "286    50        Adult\n",
       "226    43        Adult\n",
       "1077   53        Adult\n",
       "1055   49        Adult\n",
       "\n",
       "[1078 rows x 2 columns]"
      ]
     },
     "execution_count": 43,
     "metadata": {},
     "output_type": "execute_result"
    }
   ],
   "source": [
    "insurance[['Age','age_category']]"
   ]
  },
  {
   "cell_type": "code",
   "execution_count": null,
   "id": "9cde2e3c-6a59-4df7-88a8-aaf663d18886",
   "metadata": {},
   "outputs": [],
   "source": []
  },
  {
   "cell_type": "code",
   "execution_count": 44,
   "id": "2bb1b409-013f-44d2-9fa2-8179ad1d17eb",
   "metadata": {},
   "outputs": [],
   "source": [
    "# \n",
    "#insurance['Age2'] =(insurance['claim_date']-insurance['DateOfBirth']).dt.days//365\n",
    "#"
   ]
  },
  {
   "cell_type": "markdown",
   "id": "87e1a329-6a3b-417b-8b1b-802806bb6153",
   "metadata": {
    "jp-MarkdownHeadingCollapsed": true
   },
   "source": [
    "### What is the average amount claimed by the customers from various segments?\n"
   ]
  },
  {
   "cell_type": "code",
   "execution_count": 45,
   "id": "964b804b-e410-4283-af9f-094dfafd94b5",
   "metadata": {},
   "outputs": [
    {
     "data": {
      "text/html": [
       "<div>\n",
       "<style scoped>\n",
       "    .dataframe tbody tr th:only-of-type {\n",
       "        vertical-align: middle;\n",
       "    }\n",
       "\n",
       "    .dataframe tbody tr th {\n",
       "        vertical-align: top;\n",
       "    }\n",
       "\n",
       "    .dataframe thead th {\n",
       "        text-align: right;\n",
       "    }\n",
       "</style>\n",
       "<table border=\"1\" class=\"dataframe\">\n",
       "  <thead>\n",
       "    <tr style=\"text-align: right;\">\n",
       "      <th></th>\n",
       "      <th>Segment</th>\n",
       "      <th>claim_amount</th>\n",
       "    </tr>\n",
       "  </thead>\n",
       "  <tbody>\n",
       "    <tr>\n",
       "      <th>0</th>\n",
       "      <td>Gold</td>\n",
       "      <td>12756.450135</td>\n",
       "    </tr>\n",
       "    <tr>\n",
       "      <th>1</th>\n",
       "      <td>Platinum</td>\n",
       "      <td>12369.283934</td>\n",
       "    </tr>\n",
       "    <tr>\n",
       "      <th>2</th>\n",
       "      <td>Silver</td>\n",
       "      <td>12268.700867</td>\n",
       "    </tr>\n",
       "  </tbody>\n",
       "</table>\n",
       "</div>"
      ],
      "text/plain": [
       "    Segment  claim_amount\n",
       "0      Gold  12756.450135\n",
       "1  Platinum  12369.283934\n",
       "2    Silver  12268.700867"
      ]
     },
     "execution_count": 45,
     "metadata": {},
     "output_type": "execute_result"
    }
   ],
   "source": [
    "insurance.groupby(['Segment'])['claim_amount'].mean().reset_index()"
   ]
  },
  {
   "cell_type": "code",
   "execution_count": null,
   "id": "44a4d861-2c46-4383-81e6-d8838bcbc321",
   "metadata": {},
   "outputs": [],
   "source": []
  },
  {
   "cell_type": "markdown",
   "id": "0e563e93-1368-4662-bcd8-c0e2499cfbce",
   "metadata": {
    "jp-MarkdownHeadingCollapsed": true
   },
   "source": [
    "### What is the total claim amount based on incident cause for all the claims."
   ]
  },
  {
   "cell_type": "markdown",
   "id": "bb579d49-8231-41a7-8d44-8d33ec7f7a41",
   "metadata": {
    "jp-MarkdownHeadingCollapsed": true
   },
   "source": [
    "### that have been done at least 20 days prior to 1st of October, 2018."
   ]
  },
  {
   "cell_type": "code",
   "execution_count": 46,
   "id": "28879e6e-1b5b-4edb-b608-9679b09f864a",
   "metadata": {},
   "outputs": [],
   "source": [
    "start_date = '2018-10-01'\n",
    "end_date = pd.Timestamp(start_date) - pd.DateOffset(days=20) \n"
   ]
  },
  {
   "cell_type": "code",
   "execution_count": 47,
   "id": "f5681122-fc9a-451b-a9e1-0752ee441bd3",
   "metadata": {},
   "outputs": [
    {
     "data": {
      "text/html": [
       "<div>\n",
       "<style scoped>\n",
       "    .dataframe tbody tr th:only-of-type {\n",
       "        vertical-align: middle;\n",
       "    }\n",
       "\n",
       "    .dataframe tbody tr th {\n",
       "        vertical-align: top;\n",
       "    }\n",
       "\n",
       "    .dataframe thead th {\n",
       "        text-align: right;\n",
       "    }\n",
       "</style>\n",
       "<table border=\"1\" class=\"dataframe\">\n",
       "  <thead>\n",
       "    <tr style=\"text-align: right;\">\n",
       "      <th></th>\n",
       "      <th>claim_id</th>\n",
       "      <th>customer_id</th>\n",
       "      <th>incident_cause</th>\n",
       "      <th>claim_date</th>\n",
       "      <th>claim_area</th>\n",
       "      <th>police_report</th>\n",
       "      <th>claim_type</th>\n",
       "      <th>claim_amount</th>\n",
       "      <th>total_policy_claims</th>\n",
       "      <th>fraudulent</th>\n",
       "      <th>gender</th>\n",
       "      <th>DateOfBirth</th>\n",
       "      <th>State</th>\n",
       "      <th>Contact</th>\n",
       "      <th>Segment</th>\n",
       "      <th>injury_claim</th>\n",
       "      <th>Age</th>\n",
       "      <th>age_category</th>\n",
       "    </tr>\n",
       "  </thead>\n",
       "  <tbody>\n",
       "    <tr>\n",
       "      <th>148</th>\n",
       "      <td>74738945</td>\n",
       "      <td>88449349</td>\n",
       "      <td>Other causes</td>\n",
       "      <td>2018-09-12</td>\n",
       "      <td>Auto</td>\n",
       "      <td>No</td>\n",
       "      <td>Material only</td>\n",
       "      <td>1080.0</td>\n",
       "      <td>1.0</td>\n",
       "      <td>No</td>\n",
       "      <td>Male</td>\n",
       "      <td>1979-12-17</td>\n",
       "      <td>WA</td>\n",
       "      <td>975-547-5196</td>\n",
       "      <td>Platinum</td>\n",
       "      <td>0</td>\n",
       "      <td>37</td>\n",
       "      <td>Adult</td>\n",
       "    </tr>\n",
       "    <tr>\n",
       "      <th>134</th>\n",
       "      <td>4112041</td>\n",
       "      <td>58402401</td>\n",
       "      <td>Other causes</td>\n",
       "      <td>2018-09-12</td>\n",
       "      <td>Auto</td>\n",
       "      <td>Unknown</td>\n",
       "      <td>Material and injury</td>\n",
       "      <td>32710.0</td>\n",
       "      <td>1.0</td>\n",
       "      <td>No</td>\n",
       "      <td>Male</td>\n",
       "      <td>1979-06-13</td>\n",
       "      <td>KS</td>\n",
       "      <td>134-129-8167</td>\n",
       "      <td>Silver</td>\n",
       "      <td>1</td>\n",
       "      <td>38</td>\n",
       "      <td>Adult</td>\n",
       "    </tr>\n",
       "    <tr>\n",
       "      <th>416</th>\n",
       "      <td>87476916</td>\n",
       "      <td>92072156</td>\n",
       "      <td>Natural causes</td>\n",
       "      <td>2018-09-12</td>\n",
       "      <td>Auto</td>\n",
       "      <td>Yes</td>\n",
       "      <td>Material only</td>\n",
       "      <td>2970.0</td>\n",
       "      <td>1.0</td>\n",
       "      <td>No</td>\n",
       "      <td>Female</td>\n",
       "      <td>1971-07-28</td>\n",
       "      <td>DE</td>\n",
       "      <td>186-419-2974</td>\n",
       "      <td>Silver</td>\n",
       "      <td>0</td>\n",
       "      <td>46</td>\n",
       "      <td>Adult</td>\n",
       "    </tr>\n",
       "    <tr>\n",
       "      <th>975</th>\n",
       "      <td>66301062</td>\n",
       "      <td>30015627</td>\n",
       "      <td>Natural causes</td>\n",
       "      <td>2018-09-12</td>\n",
       "      <td>Auto</td>\n",
       "      <td>Yes</td>\n",
       "      <td>Material only</td>\n",
       "      <td>2208.0</td>\n",
       "      <td>4.0</td>\n",
       "      <td>Yes</td>\n",
       "      <td>Male</td>\n",
       "      <td>1969-09-11</td>\n",
       "      <td>SC</td>\n",
       "      <td>254-523-1634</td>\n",
       "      <td>Silver</td>\n",
       "      <td>0</td>\n",
       "      <td>48</td>\n",
       "      <td>Adult</td>\n",
       "    </tr>\n",
       "    <tr>\n",
       "      <th>508</th>\n",
       "      <td>81102722</td>\n",
       "      <td>91135917</td>\n",
       "      <td>Other driver error</td>\n",
       "      <td>2018-09-12</td>\n",
       "      <td>Auto</td>\n",
       "      <td>No</td>\n",
       "      <td>Material only</td>\n",
       "      <td>2710.0</td>\n",
       "      <td>1.0</td>\n",
       "      <td>No</td>\n",
       "      <td>Male</td>\n",
       "      <td>1986-08-15</td>\n",
       "      <td>NV</td>\n",
       "      <td>697-129-2549</td>\n",
       "      <td>Platinum</td>\n",
       "      <td>0</td>\n",
       "      <td>31</td>\n",
       "      <td>Adult</td>\n",
       "    </tr>\n",
       "    <tr>\n",
       "      <th>305</th>\n",
       "      <td>2581621</td>\n",
       "      <td>18213216</td>\n",
       "      <td>Other causes</td>\n",
       "      <td>2018-09-12</td>\n",
       "      <td>Auto</td>\n",
       "      <td>Unknown</td>\n",
       "      <td>Material and injury</td>\n",
       "      <td>21942.0</td>\n",
       "      <td>2.0</td>\n",
       "      <td>Yes</td>\n",
       "      <td>Male</td>\n",
       "      <td>1969-10-06</td>\n",
       "      <td>KY</td>\n",
       "      <td>416-461-9145</td>\n",
       "      <td>Silver</td>\n",
       "      <td>1</td>\n",
       "      <td>48</td>\n",
       "      <td>Adult</td>\n",
       "    </tr>\n",
       "    <tr>\n",
       "      <th>898</th>\n",
       "      <td>4812972</td>\n",
       "      <td>78341228</td>\n",
       "      <td>Natural causes</td>\n",
       "      <td>2018-09-12</td>\n",
       "      <td>Auto</td>\n",
       "      <td>Unknown</td>\n",
       "      <td>Material only</td>\n",
       "      <td>2090.0</td>\n",
       "      <td>1.0</td>\n",
       "      <td>No</td>\n",
       "      <td>Male</td>\n",
       "      <td>1986-11-26</td>\n",
       "      <td>SD</td>\n",
       "      <td>475-573-2957</td>\n",
       "      <td>Gold</td>\n",
       "      <td>0</td>\n",
       "      <td>31</td>\n",
       "      <td>Adult</td>\n",
       "    </tr>\n",
       "    <tr>\n",
       "      <th>1009</th>\n",
       "      <td>78804570</td>\n",
       "      <td>69165409</td>\n",
       "      <td>Other causes</td>\n",
       "      <td>2018-09-12</td>\n",
       "      <td>Auto</td>\n",
       "      <td>No</td>\n",
       "      <td>Material and injury</td>\n",
       "      <td>19390.0</td>\n",
       "      <td>1.0</td>\n",
       "      <td>No</td>\n",
       "      <td>Female</td>\n",
       "      <td>1994-10-11</td>\n",
       "      <td>NY</td>\n",
       "      <td>843-784-1843</td>\n",
       "      <td>Silver</td>\n",
       "      <td>0</td>\n",
       "      <td>23</td>\n",
       "      <td>Youth</td>\n",
       "    </tr>\n",
       "    <tr>\n",
       "      <th>786</th>\n",
       "      <td>98596005</td>\n",
       "      <td>73876237</td>\n",
       "      <td>Driver error</td>\n",
       "      <td>2018-09-12</td>\n",
       "      <td>Auto</td>\n",
       "      <td>No</td>\n",
       "      <td>Material only</td>\n",
       "      <td>2130.0</td>\n",
       "      <td>1.0</td>\n",
       "      <td>No</td>\n",
       "      <td>Female</td>\n",
       "      <td>1975-01-27</td>\n",
       "      <td>AL</td>\n",
       "      <td>879-185-4857</td>\n",
       "      <td>Silver</td>\n",
       "      <td>0</td>\n",
       "      <td>42</td>\n",
       "      <td>Adult</td>\n",
       "    </tr>\n",
       "    <tr>\n",
       "      <th>445</th>\n",
       "      <td>72555621</td>\n",
       "      <td>58934617</td>\n",
       "      <td>Other causes</td>\n",
       "      <td>2018-09-19</td>\n",
       "      <td>Auto</td>\n",
       "      <td>Yes</td>\n",
       "      <td>Injury only</td>\n",
       "      <td>27002.0</td>\n",
       "      <td>3.0</td>\n",
       "      <td>Yes</td>\n",
       "      <td>Male</td>\n",
       "      <td>1990-04-01</td>\n",
       "      <td>CA</td>\n",
       "      <td>157-896-3619</td>\n",
       "      <td>Platinum</td>\n",
       "      <td>0</td>\n",
       "      <td>27</td>\n",
       "      <td>Youth</td>\n",
       "    </tr>\n",
       "    <tr>\n",
       "      <th>162</th>\n",
       "      <td>3589979</td>\n",
       "      <td>14490971</td>\n",
       "      <td>Crime</td>\n",
       "      <td>2018-09-19</td>\n",
       "      <td>Auto</td>\n",
       "      <td>No</td>\n",
       "      <td>Material only</td>\n",
       "      <td>1880.0</td>\n",
       "      <td>4.0</td>\n",
       "      <td>No</td>\n",
       "      <td>Female</td>\n",
       "      <td>1976-12-10</td>\n",
       "      <td>MN</td>\n",
       "      <td>614-652-1274</td>\n",
       "      <td>Silver</td>\n",
       "      <td>0</td>\n",
       "      <td>40</td>\n",
       "      <td>Adult</td>\n",
       "    </tr>\n",
       "    <tr>\n",
       "      <th>118</th>\n",
       "      <td>65335959</td>\n",
       "      <td>61810954</td>\n",
       "      <td>Other driver error</td>\n",
       "      <td>2018-09-19</td>\n",
       "      <td>Auto</td>\n",
       "      <td>Unknown</td>\n",
       "      <td>Material and injury</td>\n",
       "      <td>36620.0</td>\n",
       "      <td>1.0</td>\n",
       "      <td>No</td>\n",
       "      <td>Male</td>\n",
       "      <td>1969-05-18</td>\n",
       "      <td>TX</td>\n",
       "      <td>724-493-6179</td>\n",
       "      <td>Silver</td>\n",
       "      <td>1</td>\n",
       "      <td>48</td>\n",
       "      <td>Adult</td>\n",
       "    </tr>\n",
       "    <tr>\n",
       "      <th>764</th>\n",
       "      <td>67588341</td>\n",
       "      <td>11982382</td>\n",
       "      <td>Other driver error</td>\n",
       "      <td>2018-09-19</td>\n",
       "      <td>Auto</td>\n",
       "      <td>No</td>\n",
       "      <td>Material only</td>\n",
       "      <td>1640.0</td>\n",
       "      <td>1.0</td>\n",
       "      <td>No</td>\n",
       "      <td>Male</td>\n",
       "      <td>1988-03-14</td>\n",
       "      <td>OH</td>\n",
       "      <td>439-628-2835</td>\n",
       "      <td>Gold</td>\n",
       "      <td>0</td>\n",
       "      <td>29</td>\n",
       "      <td>Youth</td>\n",
       "    </tr>\n",
       "    <tr>\n",
       "      <th>373</th>\n",
       "      <td>3311108</td>\n",
       "      <td>49481916</td>\n",
       "      <td>Other causes</td>\n",
       "      <td>2018-09-19</td>\n",
       "      <td>Auto</td>\n",
       "      <td>No</td>\n",
       "      <td>Material only</td>\n",
       "      <td>12470.0</td>\n",
       "      <td>2.0</td>\n",
       "      <td>Yes</td>\n",
       "      <td>Female</td>\n",
       "      <td>1996-03-28</td>\n",
       "      <td>SC</td>\n",
       "      <td>734-137-4865</td>\n",
       "      <td>Silver</td>\n",
       "      <td>0</td>\n",
       "      <td>21</td>\n",
       "      <td>Youth</td>\n",
       "    </tr>\n",
       "    <tr>\n",
       "      <th>1072</th>\n",
       "      <td>50800999</td>\n",
       "      <td>51669975</td>\n",
       "      <td>Other causes</td>\n",
       "      <td>2018-09-19</td>\n",
       "      <td>Home</td>\n",
       "      <td>Yes</td>\n",
       "      <td>Injury only</td>\n",
       "      <td>38950.0</td>\n",
       "      <td>1.0</td>\n",
       "      <td>No</td>\n",
       "      <td>Female</td>\n",
       "      <td>1988-02-05</td>\n",
       "      <td>ND</td>\n",
       "      <td>975-463-9541</td>\n",
       "      <td>Silver</td>\n",
       "      <td>0</td>\n",
       "      <td>29</td>\n",
       "      <td>Youth</td>\n",
       "    </tr>\n",
       "    <tr>\n",
       "      <th>1063</th>\n",
       "      <td>67763980</td>\n",
       "      <td>70708127</td>\n",
       "      <td>Natural causes</td>\n",
       "      <td>2018-09-19</td>\n",
       "      <td>Auto</td>\n",
       "      <td>No</td>\n",
       "      <td>Material only</td>\n",
       "      <td>1150.0</td>\n",
       "      <td>1.0</td>\n",
       "      <td>Yes</td>\n",
       "      <td>Female</td>\n",
       "      <td>1975-01-18</td>\n",
       "      <td>TX</td>\n",
       "      <td>189-276-3957</td>\n",
       "      <td>Platinum</td>\n",
       "      <td>0</td>\n",
       "      <td>42</td>\n",
       "      <td>Adult</td>\n",
       "    </tr>\n",
       "    <tr>\n",
       "      <th>683</th>\n",
       "      <td>16347699</td>\n",
       "      <td>51485708</td>\n",
       "      <td>Crime</td>\n",
       "      <td>2018-09-19</td>\n",
       "      <td>Auto</td>\n",
       "      <td>No</td>\n",
       "      <td>Material only</td>\n",
       "      <td>2010.0</td>\n",
       "      <td>1.0</td>\n",
       "      <td>No</td>\n",
       "      <td>Female</td>\n",
       "      <td>1997-04-23</td>\n",
       "      <td>WI</td>\n",
       "      <td>219-562-9756</td>\n",
       "      <td>Gold</td>\n",
       "      <td>0</td>\n",
       "      <td>20</td>\n",
       "      <td>Youth</td>\n",
       "    </tr>\n",
       "    <tr>\n",
       "      <th>369</th>\n",
       "      <td>31272774</td>\n",
       "      <td>88484857</td>\n",
       "      <td>Other causes</td>\n",
       "      <td>2018-09-19</td>\n",
       "      <td>Auto</td>\n",
       "      <td>No</td>\n",
       "      <td>Material only</td>\n",
       "      <td>1900.0</td>\n",
       "      <td>2.0</td>\n",
       "      <td>No</td>\n",
       "      <td>Male</td>\n",
       "      <td>1960-05-21</td>\n",
       "      <td>UT</td>\n",
       "      <td>189-845-2459</td>\n",
       "      <td>Silver</td>\n",
       "      <td>0</td>\n",
       "      <td>57</td>\n",
       "      <td>Adult</td>\n",
       "    </tr>\n",
       "    <tr>\n",
       "      <th>17</th>\n",
       "      <td>53780662</td>\n",
       "      <td>21240703</td>\n",
       "      <td>Other driver error</td>\n",
       "      <td>2018-09-19</td>\n",
       "      <td>Auto</td>\n",
       "      <td>Unknown</td>\n",
       "      <td>Material only</td>\n",
       "      <td>1050.0</td>\n",
       "      <td>1.0</td>\n",
       "      <td>No</td>\n",
       "      <td>Male</td>\n",
       "      <td>1963-07-22</td>\n",
       "      <td>MD</td>\n",
       "      <td>473-561-2675</td>\n",
       "      <td>Silver</td>\n",
       "      <td>0</td>\n",
       "      <td>54</td>\n",
       "      <td>Adult</td>\n",
       "    </tr>\n",
       "    <tr>\n",
       "      <th>801</th>\n",
       "      <td>84632427</td>\n",
       "      <td>90646435</td>\n",
       "      <td>Other causes</td>\n",
       "      <td>2018-09-19</td>\n",
       "      <td>Auto</td>\n",
       "      <td>Unknown</td>\n",
       "      <td>Injury only</td>\n",
       "      <td>25350.0</td>\n",
       "      <td>1.0</td>\n",
       "      <td>No</td>\n",
       "      <td>Female</td>\n",
       "      <td>1978-12-07</td>\n",
       "      <td>IL</td>\n",
       "      <td>356-975-8315</td>\n",
       "      <td>Gold</td>\n",
       "      <td>1</td>\n",
       "      <td>39</td>\n",
       "      <td>Adult</td>\n",
       "    </tr>\n",
       "    <tr>\n",
       "      <th>193</th>\n",
       "      <td>17871003</td>\n",
       "      <td>98905793</td>\n",
       "      <td>Other driver error</td>\n",
       "      <td>2018-09-19</td>\n",
       "      <td>Auto</td>\n",
       "      <td>Unknown</td>\n",
       "      <td>Material only</td>\n",
       "      <td>3139.5</td>\n",
       "      <td>3.0</td>\n",
       "      <td>Yes</td>\n",
       "      <td>Female</td>\n",
       "      <td>1993-11-11</td>\n",
       "      <td>ID</td>\n",
       "      <td>823-482-5839</td>\n",
       "      <td>Platinum</td>\n",
       "      <td>0</td>\n",
       "      <td>24</td>\n",
       "      <td>Youth</td>\n",
       "    </tr>\n",
       "    <tr>\n",
       "      <th>337</th>\n",
       "      <td>89056979</td>\n",
       "      <td>63915259</td>\n",
       "      <td>Other causes</td>\n",
       "      <td>2018-09-26</td>\n",
       "      <td>Home</td>\n",
       "      <td>Yes</td>\n",
       "      <td>Material and injury</td>\n",
       "      <td>18530.0</td>\n",
       "      <td>1.0</td>\n",
       "      <td>No</td>\n",
       "      <td>Male</td>\n",
       "      <td>1986-05-22</td>\n",
       "      <td>GA</td>\n",
       "      <td>829-157-6239</td>\n",
       "      <td>Gold</td>\n",
       "      <td>0</td>\n",
       "      <td>31</td>\n",
       "      <td>Adult</td>\n",
       "    </tr>\n",
       "    <tr>\n",
       "      <th>528</th>\n",
       "      <td>4257735</td>\n",
       "      <td>28437868</td>\n",
       "      <td>Other driver error</td>\n",
       "      <td>2018-09-26</td>\n",
       "      <td>Auto</td>\n",
       "      <td>No</td>\n",
       "      <td>Material only</td>\n",
       "      <td>1300.0</td>\n",
       "      <td>1.0</td>\n",
       "      <td>No</td>\n",
       "      <td>Female</td>\n",
       "      <td>1968-01-31</td>\n",
       "      <td>NY</td>\n",
       "      <td>398-185-7936</td>\n",
       "      <td>Platinum</td>\n",
       "      <td>0</td>\n",
       "      <td>49</td>\n",
       "      <td>Adult</td>\n",
       "    </tr>\n",
       "    <tr>\n",
       "      <th>585</th>\n",
       "      <td>39518274</td>\n",
       "      <td>91180828</td>\n",
       "      <td>Other causes</td>\n",
       "      <td>2018-09-26</td>\n",
       "      <td>Auto</td>\n",
       "      <td>Unknown</td>\n",
       "      <td>Material and injury</td>\n",
       "      <td>28382.0</td>\n",
       "      <td>1.0</td>\n",
       "      <td>Yes</td>\n",
       "      <td>Female</td>\n",
       "      <td>1987-03-17</td>\n",
       "      <td>MI</td>\n",
       "      <td>136-473-6752</td>\n",
       "      <td>Platinum</td>\n",
       "      <td>1</td>\n",
       "      <td>30</td>\n",
       "      <td>Adult</td>\n",
       "    </tr>\n",
       "    <tr>\n",
       "      <th>224</th>\n",
       "      <td>5694962</td>\n",
       "      <td>9677945</td>\n",
       "      <td>Other causes</td>\n",
       "      <td>2018-09-26</td>\n",
       "      <td>Auto</td>\n",
       "      <td>No</td>\n",
       "      <td>Material only</td>\n",
       "      <td>1520.0</td>\n",
       "      <td>1.0</td>\n",
       "      <td>No</td>\n",
       "      <td>Female</td>\n",
       "      <td>1987-05-28</td>\n",
       "      <td>SC</td>\n",
       "      <td>849-461-6419</td>\n",
       "      <td>Platinum</td>\n",
       "      <td>0</td>\n",
       "      <td>30</td>\n",
       "      <td>Adult</td>\n",
       "    </tr>\n",
       "    <tr>\n",
       "      <th>990</th>\n",
       "      <td>16402994</td>\n",
       "      <td>86164274</td>\n",
       "      <td>Other causes</td>\n",
       "      <td>2018-09-26</td>\n",
       "      <td>Home</td>\n",
       "      <td>Unknown</td>\n",
       "      <td>Material and injury</td>\n",
       "      <td>15760.0</td>\n",
       "      <td>1.0</td>\n",
       "      <td>No</td>\n",
       "      <td>Male</td>\n",
       "      <td>1962-12-28</td>\n",
       "      <td>SC</td>\n",
       "      <td>843-361-2796</td>\n",
       "      <td>Platinum</td>\n",
       "      <td>1</td>\n",
       "      <td>54</td>\n",
       "      <td>Adult</td>\n",
       "    </tr>\n",
       "    <tr>\n",
       "      <th>70</th>\n",
       "      <td>43973221</td>\n",
       "      <td>83290720</td>\n",
       "      <td>Driver error</td>\n",
       "      <td>2018-09-26</td>\n",
       "      <td>Auto</td>\n",
       "      <td>Yes</td>\n",
       "      <td>Material and injury</td>\n",
       "      <td>12470.0</td>\n",
       "      <td>1.0</td>\n",
       "      <td>No</td>\n",
       "      <td>Male</td>\n",
       "      <td>1966-12-06</td>\n",
       "      <td>VA</td>\n",
       "      <td>185-825-6547</td>\n",
       "      <td>Gold</td>\n",
       "      <td>0</td>\n",
       "      <td>51</td>\n",
       "      <td>Adult</td>\n",
       "    </tr>\n",
       "    <tr>\n",
       "      <th>376</th>\n",
       "      <td>92399694</td>\n",
       "      <td>92971195</td>\n",
       "      <td>Other driver error</td>\n",
       "      <td>2018-09-26</td>\n",
       "      <td>Home</td>\n",
       "      <td>No</td>\n",
       "      <td>Material only</td>\n",
       "      <td>1140.0</td>\n",
       "      <td>1.0</td>\n",
       "      <td>No</td>\n",
       "      <td>Male</td>\n",
       "      <td>1975-02-02</td>\n",
       "      <td>DE</td>\n",
       "      <td>892-173-4657</td>\n",
       "      <td>Gold</td>\n",
       "      <td>0</td>\n",
       "      <td>42</td>\n",
       "      <td>Adult</td>\n",
       "    </tr>\n",
       "    <tr>\n",
       "      <th>615</th>\n",
       "      <td>98163164</td>\n",
       "      <td>69355027</td>\n",
       "      <td>Crime</td>\n",
       "      <td>2018-09-26</td>\n",
       "      <td>Auto</td>\n",
       "      <td>Unknown</td>\n",
       "      <td>Material only</td>\n",
       "      <td>2950.0</td>\n",
       "      <td>1.0</td>\n",
       "      <td>No</td>\n",
       "      <td>Female</td>\n",
       "      <td>1964-12-17</td>\n",
       "      <td>MO</td>\n",
       "      <td>354-352-3891</td>\n",
       "      <td>Silver</td>\n",
       "      <td>0</td>\n",
       "      <td>52</td>\n",
       "      <td>Adult</td>\n",
       "    </tr>\n",
       "  </tbody>\n",
       "</table>\n",
       "</div>"
      ],
      "text/plain": [
       "      claim_id customer_id      incident_cause claim_date claim_area  \\\n",
       "148   74738945    88449349        Other causes 2018-09-12       Auto   \n",
       "134    4112041    58402401        Other causes 2018-09-12       Auto   \n",
       "416   87476916    92072156      Natural causes 2018-09-12       Auto   \n",
       "975   66301062    30015627      Natural causes 2018-09-12       Auto   \n",
       "508   81102722    91135917  Other driver error 2018-09-12       Auto   \n",
       "305    2581621    18213216        Other causes 2018-09-12       Auto   \n",
       "898    4812972    78341228      Natural causes 2018-09-12       Auto   \n",
       "1009  78804570    69165409        Other causes 2018-09-12       Auto   \n",
       "786   98596005    73876237        Driver error 2018-09-12       Auto   \n",
       "445   72555621    58934617        Other causes 2018-09-19       Auto   \n",
       "162    3589979    14490971               Crime 2018-09-19       Auto   \n",
       "118   65335959    61810954  Other driver error 2018-09-19       Auto   \n",
       "764   67588341    11982382  Other driver error 2018-09-19       Auto   \n",
       "373    3311108    49481916        Other causes 2018-09-19       Auto   \n",
       "1072  50800999    51669975        Other causes 2018-09-19       Home   \n",
       "1063  67763980    70708127      Natural causes 2018-09-19       Auto   \n",
       "683   16347699    51485708               Crime 2018-09-19       Auto   \n",
       "369   31272774    88484857        Other causes 2018-09-19       Auto   \n",
       "17    53780662    21240703  Other driver error 2018-09-19       Auto   \n",
       "801   84632427    90646435        Other causes 2018-09-19       Auto   \n",
       "193   17871003    98905793  Other driver error 2018-09-19       Auto   \n",
       "337   89056979    63915259        Other causes 2018-09-26       Home   \n",
       "528    4257735    28437868  Other driver error 2018-09-26       Auto   \n",
       "585   39518274    91180828        Other causes 2018-09-26       Auto   \n",
       "224    5694962     9677945        Other causes 2018-09-26       Auto   \n",
       "990   16402994    86164274        Other causes 2018-09-26       Home   \n",
       "70    43973221    83290720        Driver error 2018-09-26       Auto   \n",
       "376   92399694    92971195  Other driver error 2018-09-26       Home   \n",
       "615   98163164    69355027               Crime 2018-09-26       Auto   \n",
       "\n",
       "     police_report           claim_type  claim_amount  total_policy_claims  \\\n",
       "148             No        Material only        1080.0                  1.0   \n",
       "134        Unknown  Material and injury       32710.0                  1.0   \n",
       "416            Yes        Material only        2970.0                  1.0   \n",
       "975            Yes        Material only        2208.0                  4.0   \n",
       "508             No        Material only        2710.0                  1.0   \n",
       "305        Unknown  Material and injury       21942.0                  2.0   \n",
       "898        Unknown        Material only        2090.0                  1.0   \n",
       "1009            No  Material and injury       19390.0                  1.0   \n",
       "786             No        Material only        2130.0                  1.0   \n",
       "445            Yes          Injury only       27002.0                  3.0   \n",
       "162             No        Material only        1880.0                  4.0   \n",
       "118        Unknown  Material and injury       36620.0                  1.0   \n",
       "764             No        Material only        1640.0                  1.0   \n",
       "373             No        Material only       12470.0                  2.0   \n",
       "1072           Yes          Injury only       38950.0                  1.0   \n",
       "1063            No        Material only        1150.0                  1.0   \n",
       "683             No        Material only        2010.0                  1.0   \n",
       "369             No        Material only        1900.0                  2.0   \n",
       "17         Unknown        Material only        1050.0                  1.0   \n",
       "801        Unknown          Injury only       25350.0                  1.0   \n",
       "193        Unknown        Material only        3139.5                  3.0   \n",
       "337            Yes  Material and injury       18530.0                  1.0   \n",
       "528             No        Material only        1300.0                  1.0   \n",
       "585        Unknown  Material and injury       28382.0                  1.0   \n",
       "224             No        Material only        1520.0                  1.0   \n",
       "990        Unknown  Material and injury       15760.0                  1.0   \n",
       "70             Yes  Material and injury       12470.0                  1.0   \n",
       "376             No        Material only        1140.0                  1.0   \n",
       "615        Unknown        Material only        2950.0                  1.0   \n",
       "\n",
       "     fraudulent  gender DateOfBirth State       Contact   Segment  \\\n",
       "148          No    Male  1979-12-17    WA  975-547-5196  Platinum   \n",
       "134          No    Male  1979-06-13    KS  134-129-8167    Silver   \n",
       "416          No  Female  1971-07-28    DE  186-419-2974    Silver   \n",
       "975         Yes    Male  1969-09-11    SC  254-523-1634    Silver   \n",
       "508          No    Male  1986-08-15    NV  697-129-2549  Platinum   \n",
       "305         Yes    Male  1969-10-06    KY  416-461-9145    Silver   \n",
       "898          No    Male  1986-11-26    SD  475-573-2957      Gold   \n",
       "1009         No  Female  1994-10-11    NY  843-784-1843    Silver   \n",
       "786          No  Female  1975-01-27    AL  879-185-4857    Silver   \n",
       "445         Yes    Male  1990-04-01    CA  157-896-3619  Platinum   \n",
       "162          No  Female  1976-12-10    MN  614-652-1274    Silver   \n",
       "118          No    Male  1969-05-18    TX  724-493-6179    Silver   \n",
       "764          No    Male  1988-03-14    OH  439-628-2835      Gold   \n",
       "373         Yes  Female  1996-03-28    SC  734-137-4865    Silver   \n",
       "1072         No  Female  1988-02-05    ND  975-463-9541    Silver   \n",
       "1063        Yes  Female  1975-01-18    TX  189-276-3957  Platinum   \n",
       "683          No  Female  1997-04-23    WI  219-562-9756      Gold   \n",
       "369          No    Male  1960-05-21    UT  189-845-2459    Silver   \n",
       "17           No    Male  1963-07-22    MD  473-561-2675    Silver   \n",
       "801          No  Female  1978-12-07    IL  356-975-8315      Gold   \n",
       "193         Yes  Female  1993-11-11    ID  823-482-5839  Platinum   \n",
       "337          No    Male  1986-05-22    GA  829-157-6239      Gold   \n",
       "528          No  Female  1968-01-31    NY  398-185-7936  Platinum   \n",
       "585         Yes  Female  1987-03-17    MI  136-473-6752  Platinum   \n",
       "224          No  Female  1987-05-28    SC  849-461-6419  Platinum   \n",
       "990          No    Male  1962-12-28    SC  843-361-2796  Platinum   \n",
       "70           No    Male  1966-12-06    VA  185-825-6547      Gold   \n",
       "376          No    Male  1975-02-02    DE  892-173-4657      Gold   \n",
       "615          No  Female  1964-12-17    MO  354-352-3891    Silver   \n",
       "\n",
       "      injury_claim  Age age_category  \n",
       "148              0   37        Adult  \n",
       "134              1   38        Adult  \n",
       "416              0   46        Adult  \n",
       "975              0   48        Adult  \n",
       "508              0   31        Adult  \n",
       "305              1   48        Adult  \n",
       "898              0   31        Adult  \n",
       "1009             0   23        Youth  \n",
       "786              0   42        Adult  \n",
       "445              0   27        Youth  \n",
       "162              0   40        Adult  \n",
       "118              1   48        Adult  \n",
       "764              0   29        Youth  \n",
       "373              0   21        Youth  \n",
       "1072             0   29        Youth  \n",
       "1063             0   42        Adult  \n",
       "683              0   20        Youth  \n",
       "369              0   57        Adult  \n",
       "17               0   54        Adult  \n",
       "801              1   39        Adult  \n",
       "193              0   24        Youth  \n",
       "337              0   31        Adult  \n",
       "528              0   49        Adult  \n",
       "585              1   30        Adult  \n",
       "224              0   30        Adult  \n",
       "990              1   54        Adult  \n",
       "70               0   51        Adult  \n",
       "376              0   42        Adult  \n",
       "615              0   52        Adult  "
      ]
     },
     "execution_count": 47,
     "metadata": {},
     "output_type": "execute_result"
    }
   ],
   "source": [
    "insurance[insurance['claim_date'].between(end_date,start_date)]"
   ]
  },
  {
   "cell_type": "code",
   "execution_count": 48,
   "id": "27d24821-720f-497d-8997-054f3ffb24ab",
   "metadata": {},
   "outputs": [
    {
     "data": {
      "text/plain": [
       "322443.5"
      ]
     },
     "execution_count": 48,
     "metadata": {},
     "output_type": "execute_result"
    }
   ],
   "source": [
    "insurance[insurance['claim_date'].between(end_date,start_date)]['claim_amount'].sum()"
   ]
  },
  {
   "cell_type": "code",
   "execution_count": null,
   "id": "7b88b188-e793-4047-835f-4ca80002dcab",
   "metadata": {},
   "outputs": [],
   "source": []
  },
  {
   "cell_type": "markdown",
   "id": "d9f137a0-baa9-46c6-9792-32bc7325075b",
   "metadata": {
    "jp-MarkdownHeadingCollapsed": true
   },
   "source": [
    "### How many adults from TX, DE and AK claimed insurance for driver \n",
    "related issues and causes? "
   ]
  },
  {
   "cell_type": "code",
   "execution_count": 49,
   "id": "5a39421b-d303-4b87-86b0-d0840c1b509a",
   "metadata": {},
   "outputs": [],
   "source": [
    "# set(insurance['incident_cause']) ,set(insurance['age_category']), set(insurance['State'])"
   ]
  },
  {
   "cell_type": "code",
   "execution_count": 50,
   "id": "90c0c6be-9737-414a-aed8-2c8407b0e078",
   "metadata": {},
   "outputs": [],
   "source": [
    "diver_related=insurance[insurance['incident_cause'].isin(['Driver error','Other diver error'])]"
   ]
  },
  {
   "cell_type": "code",
   "execution_count": 51,
   "id": "5dcb9c8c-b923-4882-8cb0-7abc1006e1ac",
   "metadata": {},
   "outputs": [
    {
     "data": {
      "text/html": [
       "<div>\n",
       "<style scoped>\n",
       "    .dataframe tbody tr th:only-of-type {\n",
       "        vertical-align: middle;\n",
       "    }\n",
       "\n",
       "    .dataframe tbody tr th {\n",
       "        vertical-align: top;\n",
       "    }\n",
       "\n",
       "    .dataframe thead th {\n",
       "        text-align: right;\n",
       "    }\n",
       "</style>\n",
       "<table border=\"1\" class=\"dataframe\">\n",
       "  <thead>\n",
       "    <tr style=\"text-align: right;\">\n",
       "      <th></th>\n",
       "      <th>claim_id</th>\n",
       "      <th>customer_id</th>\n",
       "      <th>incident_cause</th>\n",
       "      <th>claim_date</th>\n",
       "      <th>claim_area</th>\n",
       "      <th>police_report</th>\n",
       "      <th>claim_type</th>\n",
       "      <th>claim_amount</th>\n",
       "      <th>total_policy_claims</th>\n",
       "      <th>fraudulent</th>\n",
       "      <th>gender</th>\n",
       "      <th>DateOfBirth</th>\n",
       "      <th>State</th>\n",
       "      <th>Contact</th>\n",
       "      <th>Segment</th>\n",
       "      <th>injury_claim</th>\n",
       "      <th>Age</th>\n",
       "      <th>age_category</th>\n",
       "    </tr>\n",
       "  </thead>\n",
       "  <tbody>\n",
       "    <tr>\n",
       "      <th>607</th>\n",
       "      <td>30280492</td>\n",
       "      <td>84147585</td>\n",
       "      <td>Driver error</td>\n",
       "      <td>2017-01-07</td>\n",
       "      <td>Auto</td>\n",
       "      <td>Unknown</td>\n",
       "      <td>Material only</td>\n",
       "      <td>2380.0</td>\n",
       "      <td>1.0</td>\n",
       "      <td>No</td>\n",
       "      <td>Male</td>\n",
       "      <td>1972-10-18</td>\n",
       "      <td>AK</td>\n",
       "      <td>743-569-4783</td>\n",
       "      <td>Gold</td>\n",
       "      <td>0</td>\n",
       "      <td>45</td>\n",
       "      <td>Adult</td>\n",
       "    </tr>\n",
       "    <tr>\n",
       "      <th>263</th>\n",
       "      <td>31574986</td>\n",
       "      <td>11321295</td>\n",
       "      <td>Driver error</td>\n",
       "      <td>2017-02-03</td>\n",
       "      <td>Auto</td>\n",
       "      <td>No</td>\n",
       "      <td>Material only</td>\n",
       "      <td>2460.0</td>\n",
       "      <td>2.0</td>\n",
       "      <td>No</td>\n",
       "      <td>Male</td>\n",
       "      <td>1965-11-13</td>\n",
       "      <td>DE</td>\n",
       "      <td>429-596-2169</td>\n",
       "      <td>Platinum</td>\n",
       "      <td>0</td>\n",
       "      <td>52</td>\n",
       "      <td>Adult</td>\n",
       "    </tr>\n",
       "    <tr>\n",
       "      <th>430</th>\n",
       "      <td>22577147</td>\n",
       "      <td>66433138</td>\n",
       "      <td>Driver error</td>\n",
       "      <td>2017-02-23</td>\n",
       "      <td>Auto</td>\n",
       "      <td>No</td>\n",
       "      <td>Material and injury</td>\n",
       "      <td>21447.5</td>\n",
       "      <td>2.0</td>\n",
       "      <td>Yes</td>\n",
       "      <td>Male</td>\n",
       "      <td>1978-06-27</td>\n",
       "      <td>TX</td>\n",
       "      <td>752-617-3867</td>\n",
       "      <td>Gold</td>\n",
       "      <td>0</td>\n",
       "      <td>39</td>\n",
       "      <td>Adult</td>\n",
       "    </tr>\n",
       "    <tr>\n",
       "      <th>984</th>\n",
       "      <td>17396013</td>\n",
       "      <td>44050095</td>\n",
       "      <td>Driver error</td>\n",
       "      <td>2017-03-22</td>\n",
       "      <td>Auto</td>\n",
       "      <td>Unknown</td>\n",
       "      <td>Material and injury</td>\n",
       "      <td>20458.5</td>\n",
       "      <td>1.0</td>\n",
       "      <td>Yes</td>\n",
       "      <td>Male</td>\n",
       "      <td>1977-06-04</td>\n",
       "      <td>DE</td>\n",
       "      <td>314-298-9257</td>\n",
       "      <td>Platinum</td>\n",
       "      <td>1</td>\n",
       "      <td>40</td>\n",
       "      <td>Adult</td>\n",
       "    </tr>\n",
       "    <tr>\n",
       "      <th>103</th>\n",
       "      <td>82144259</td>\n",
       "      <td>92752865</td>\n",
       "      <td>Driver error</td>\n",
       "      <td>2017-04-25</td>\n",
       "      <td>Auto</td>\n",
       "      <td>No</td>\n",
       "      <td>Injury only</td>\n",
       "      <td>12470.0</td>\n",
       "      <td>1.0</td>\n",
       "      <td>No</td>\n",
       "      <td>Male</td>\n",
       "      <td>1986-01-30</td>\n",
       "      <td>AK</td>\n",
       "      <td>143-219-5498</td>\n",
       "      <td>Silver</td>\n",
       "      <td>0</td>\n",
       "      <td>31</td>\n",
       "      <td>Adult</td>\n",
       "    </tr>\n",
       "    <tr>\n",
       "      <th>849</th>\n",
       "      <td>94983900</td>\n",
       "      <td>18282409</td>\n",
       "      <td>Driver error</td>\n",
       "      <td>2017-08-11</td>\n",
       "      <td>Auto</td>\n",
       "      <td>No</td>\n",
       "      <td>Injury only</td>\n",
       "      <td>31020.0</td>\n",
       "      <td>2.0</td>\n",
       "      <td>No</td>\n",
       "      <td>Female</td>\n",
       "      <td>1973-09-29</td>\n",
       "      <td>AK</td>\n",
       "      <td>326-215-7361</td>\n",
       "      <td>Gold</td>\n",
       "      <td>0</td>\n",
       "      <td>44</td>\n",
       "      <td>Adult</td>\n",
       "    </tr>\n",
       "    <tr>\n",
       "      <th>706</th>\n",
       "      <td>6365892</td>\n",
       "      <td>42083451</td>\n",
       "      <td>Driver error</td>\n",
       "      <td>2017-08-31</td>\n",
       "      <td>Auto</td>\n",
       "      <td>No</td>\n",
       "      <td>Material only</td>\n",
       "      <td>2400.0</td>\n",
       "      <td>1.0</td>\n",
       "      <td>No</td>\n",
       "      <td>Male</td>\n",
       "      <td>1967-11-23</td>\n",
       "      <td>AK</td>\n",
       "      <td>689-375-9463</td>\n",
       "      <td>Platinum</td>\n",
       "      <td>0</td>\n",
       "      <td>50</td>\n",
       "      <td>Adult</td>\n",
       "    </tr>\n",
       "    <tr>\n",
       "      <th>574</th>\n",
       "      <td>53831641</td>\n",
       "      <td>15820948</td>\n",
       "      <td>Driver error</td>\n",
       "      <td>2017-09-27</td>\n",
       "      <td>Auto</td>\n",
       "      <td>Yes</td>\n",
       "      <td>Material and injury</td>\n",
       "      <td>14570.0</td>\n",
       "      <td>1.0</td>\n",
       "      <td>No</td>\n",
       "      <td>Male</td>\n",
       "      <td>1964-02-22</td>\n",
       "      <td>TX</td>\n",
       "      <td>583-641-3184</td>\n",
       "      <td>Silver</td>\n",
       "      <td>0</td>\n",
       "      <td>53</td>\n",
       "      <td>Adult</td>\n",
       "    </tr>\n",
       "    <tr>\n",
       "      <th>381</th>\n",
       "      <td>70068</td>\n",
       "      <td>4669941</td>\n",
       "      <td>Driver error</td>\n",
       "      <td>2017-11-06</td>\n",
       "      <td>Auto</td>\n",
       "      <td>Unknown</td>\n",
       "      <td>Injury only</td>\n",
       "      <td>29900.0</td>\n",
       "      <td>1.0</td>\n",
       "      <td>Yes</td>\n",
       "      <td>Male</td>\n",
       "      <td>1982-08-03</td>\n",
       "      <td>AK</td>\n",
       "      <td>761-462-3458</td>\n",
       "      <td>Platinum</td>\n",
       "      <td>1</td>\n",
       "      <td>35</td>\n",
       "      <td>Adult</td>\n",
       "    </tr>\n",
       "    <tr>\n",
       "      <th>188</th>\n",
       "      <td>69348631</td>\n",
       "      <td>154557</td>\n",
       "      <td>Driver error</td>\n",
       "      <td>2018-04-10</td>\n",
       "      <td>Auto</td>\n",
       "      <td>No</td>\n",
       "      <td>Injury only</td>\n",
       "      <td>12470.0</td>\n",
       "      <td>1.0</td>\n",
       "      <td>Yes</td>\n",
       "      <td>Female</td>\n",
       "      <td>1978-05-23</td>\n",
       "      <td>DE</td>\n",
       "      <td>962-879-1238</td>\n",
       "      <td>Platinum</td>\n",
       "      <td>0</td>\n",
       "      <td>39</td>\n",
       "      <td>Adult</td>\n",
       "    </tr>\n",
       "    <tr>\n",
       "      <th>650</th>\n",
       "      <td>40283824</td>\n",
       "      <td>9205013</td>\n",
       "      <td>Driver error</td>\n",
       "      <td>2018-06-17</td>\n",
       "      <td>Auto</td>\n",
       "      <td>Yes</td>\n",
       "      <td>Material and injury</td>\n",
       "      <td>23430.0</td>\n",
       "      <td>1.0</td>\n",
       "      <td>No</td>\n",
       "      <td>Male</td>\n",
       "      <td>1963-12-11</td>\n",
       "      <td>DE</td>\n",
       "      <td>239-368-6759</td>\n",
       "      <td>Platinum</td>\n",
       "      <td>0</td>\n",
       "      <td>54</td>\n",
       "      <td>Adult</td>\n",
       "    </tr>\n",
       "    <tr>\n",
       "      <th>551</th>\n",
       "      <td>86096444</td>\n",
       "      <td>65899365</td>\n",
       "      <td>Driver error</td>\n",
       "      <td>2018-07-14</td>\n",
       "      <td>Auto</td>\n",
       "      <td>No</td>\n",
       "      <td>Material and injury</td>\n",
       "      <td>34160.0</td>\n",
       "      <td>1.0</td>\n",
       "      <td>No</td>\n",
       "      <td>Female</td>\n",
       "      <td>1973-07-25</td>\n",
       "      <td>TX</td>\n",
       "      <td>135-971-8567</td>\n",
       "      <td>Platinum</td>\n",
       "      <td>0</td>\n",
       "      <td>44</td>\n",
       "      <td>Adult</td>\n",
       "    </tr>\n",
       "  </tbody>\n",
       "</table>\n",
       "</div>"
      ],
      "text/plain": [
       "     claim_id customer_id incident_cause claim_date claim_area police_report  \\\n",
       "607  30280492    84147585   Driver error 2017-01-07       Auto       Unknown   \n",
       "263  31574986    11321295   Driver error 2017-02-03       Auto            No   \n",
       "430  22577147    66433138   Driver error 2017-02-23       Auto            No   \n",
       "984  17396013    44050095   Driver error 2017-03-22       Auto       Unknown   \n",
       "103  82144259    92752865   Driver error 2017-04-25       Auto            No   \n",
       "849  94983900    18282409   Driver error 2017-08-11       Auto            No   \n",
       "706   6365892    42083451   Driver error 2017-08-31       Auto            No   \n",
       "574  53831641    15820948   Driver error 2017-09-27       Auto           Yes   \n",
       "381     70068     4669941   Driver error 2017-11-06       Auto       Unknown   \n",
       "188  69348631      154557   Driver error 2018-04-10       Auto            No   \n",
       "650  40283824     9205013   Driver error 2018-06-17       Auto           Yes   \n",
       "551  86096444    65899365   Driver error 2018-07-14       Auto            No   \n",
       "\n",
       "              claim_type  claim_amount  total_policy_claims fraudulent  \\\n",
       "607        Material only        2380.0                  1.0         No   \n",
       "263        Material only        2460.0                  2.0         No   \n",
       "430  Material and injury       21447.5                  2.0        Yes   \n",
       "984  Material and injury       20458.5                  1.0        Yes   \n",
       "103          Injury only       12470.0                  1.0         No   \n",
       "849          Injury only       31020.0                  2.0         No   \n",
       "706        Material only        2400.0                  1.0         No   \n",
       "574  Material and injury       14570.0                  1.0         No   \n",
       "381          Injury only       29900.0                  1.0        Yes   \n",
       "188          Injury only       12470.0                  1.0        Yes   \n",
       "650  Material and injury       23430.0                  1.0         No   \n",
       "551  Material and injury       34160.0                  1.0         No   \n",
       "\n",
       "     gender DateOfBirth State       Contact   Segment  injury_claim  Age  \\\n",
       "607    Male  1972-10-18    AK  743-569-4783      Gold             0   45   \n",
       "263    Male  1965-11-13    DE  429-596-2169  Platinum             0   52   \n",
       "430    Male  1978-06-27    TX  752-617-3867      Gold             0   39   \n",
       "984    Male  1977-06-04    DE  314-298-9257  Platinum             1   40   \n",
       "103    Male  1986-01-30    AK  143-219-5498    Silver             0   31   \n",
       "849  Female  1973-09-29    AK  326-215-7361      Gold             0   44   \n",
       "706    Male  1967-11-23    AK  689-375-9463  Platinum             0   50   \n",
       "574    Male  1964-02-22    TX  583-641-3184    Silver             0   53   \n",
       "381    Male  1982-08-03    AK  761-462-3458  Platinum             1   35   \n",
       "188  Female  1978-05-23    DE  962-879-1238  Platinum             0   39   \n",
       "650    Male  1963-12-11    DE  239-368-6759  Platinum             0   54   \n",
       "551  Female  1973-07-25    TX  135-971-8567  Platinum             0   44   \n",
       "\n",
       "    age_category  \n",
       "607        Adult  \n",
       "263        Adult  \n",
       "430        Adult  \n",
       "984        Adult  \n",
       "103        Adult  \n",
       "849        Adult  \n",
       "706        Adult  \n",
       "574        Adult  \n",
       "381        Adult  \n",
       "188        Adult  \n",
       "650        Adult  \n",
       "551        Adult  "
      ]
     },
     "execution_count": 51,
     "metadata": {},
     "output_type": "execute_result"
    }
   ],
   "source": [
    "diver_related[(diver_related['State'].isin(['TX','DE','AK'])) & (diver_related['age_category']=='Adult')]"
   ]
  },
  {
   "cell_type": "code",
   "execution_count": 52,
   "id": "22ec642b-5bed-4733-89c1-8fd1c9e5e252",
   "metadata": {},
   "outputs": [
    {
     "data": {
      "text/plain": [
       "12"
      ]
     },
     "execution_count": 52,
     "metadata": {},
     "output_type": "execute_result"
    }
   ],
   "source": [
    "diver_related[(diver_related['State'].isin(['TX','DE','AK'])) & (diver_related['age_category']=='Adult')].shape[0]"
   ]
  },
  {
   "cell_type": "code",
   "execution_count": null,
   "id": "94e03706-0d55-43d9-88ae-04247564b3f1",
   "metadata": {},
   "outputs": [],
   "source": []
  },
  {
   "cell_type": "markdown",
   "id": "4630eb50-c5a1-4f77-8633-3b987229f420",
   "metadata": {
    "jp-MarkdownHeadingCollapsed": true
   },
   "source": [
    "###  Draw a pie chart between the aggregated value of claim amount based on gender and segment. Represent the claim amount as a percentage onthe pie chart."
   ]
  },
  {
   "cell_type": "code",
   "execution_count": 53,
   "id": "9f317055-180d-4bcf-885f-4e5a7a1654bf",
   "metadata": {},
   "outputs": [],
   "source": [
    "pie_chart1=insurance.groupby(['Segment'])['claim_amount'].sum()"
   ]
  },
  {
   "cell_type": "code",
   "execution_count": 54,
   "id": "7ec2adf6-e80c-49e6-87e8-1d408df855ca",
   "metadata": {},
   "outputs": [],
   "source": [
    "pie_chart2=insurance.groupby(['gender'])['claim_amount'].sum()"
   ]
  },
  {
   "cell_type": "code",
   "execution_count": 55,
   "id": "81d3d7dc-9667-4831-9aa6-c54603c986a8",
   "metadata": {},
   "outputs": [
    {
     "data": {
      "image/png": "[encoded data removed]",
      "text/plain": [
       "<Figure size 640x480 with 1 Axes>"
      ]
     },
     "metadata": {},
     "output_type": "display_data"
    }
   ],
   "source": [
    "plt.pie(pie_chart2,labels=pie_chart2.index,autopct='%0.1f%%',startangle=90)\n",
    "plt.title('Aggregated Claim Amount by Gender ')\n",
    "plt.axis('equal')\n",
    "plt.show()"
   ]
  },
  {
   "cell_type": "code",
   "execution_count": 56,
   "id": "c8814b3d-f652-4277-9084-c7419def78d3",
   "metadata": {},
   "outputs": [
    {
     "data": {
      "image/png": "[encoded data removed]",
      "text/plain": [
       "<Figure size 640x480 with 1 Axes>"
      ]
     },
     "metadata": {},
     "output_type": "display_data"
    }
   ],
   "source": [
    "plt.pie(pie_chart1,labels=pie_chart1.index,autopct='%0.1f%%',startangle=90)\n",
    "plt.title('Aggregated Claim Amount by  Segment')\n",
    "plt.axis('equal')\n",
    "plt.show()\n"
   ]
  },
  {
   "cell_type": "code",
   "execution_count": null,
   "id": "06e3aae9-35a7-4dd1-9ff5-79e658f7f48f",
   "metadata": {},
   "outputs": [],
   "source": []
  },
  {
   "cell_type": "code",
   "execution_count": null,
   "id": "cafa6cc7-3491-426a-b6f6-8f40d6c3b518",
   "metadata": {},
   "outputs": [],
   "source": []
  },
  {
   "cell_type": "code",
   "execution_count": null,
   "id": "9e6030d4-0aba-4b05-ad7c-89cae3a34178",
   "metadata": {},
   "outputs": [],
   "source": []
  },
  {
   "cell_type": "markdown",
   "id": "bb0abf59-7b94-49ec-b6ae-38f249e82b7b",
   "metadata": {
    "jp-MarkdownHeadingCollapsed": true
   },
   "source": [
    "### Among males and females, which gender had claimed the most for any type of driver related issues? E.g. This metric can be compared using a bar char"
   ]
  },
  {
   "cell_type": "code",
   "execution_count": 57,
   "id": "1b9b67da-01ac-488e-932a-d7554ba3b7cb",
   "metadata": {},
   "outputs": [
    {
     "data": {
      "text/plain": [
       "(501, 18)"
      ]
     },
     "execution_count": 57,
     "metadata": {},
     "output_type": "execute_result"
    }
   ],
   "source": [
    "insurance[insurance['incident_cause'].isin(['Driver error','Other driver error'])].shape"
   ]
  },
  {
   "cell_type": "code",
   "execution_count": 58,
   "id": "f3a56fe0-41df-4f15-bd07-a3abb17474e8",
   "metadata": {},
   "outputs": [],
   "source": [
    "gender_claim=insurance[insurance['incident_cause'].isin(['Driver error','Other driver error'])].groupby(['gender'])['incident_cause'].count()"
   ]
  },
  {
   "cell_type": "code",
   "execution_count": 59,
   "id": "e17e2444-11d8-439c-a6ca-eb3ea02fb4ab",
   "metadata": {},
   "outputs": [
    {
     "data": {
      "image/png": "[encoded data removed]",
      "text/plain": [
       "<Figure size 640x480 with 1 Axes>"
      ]
     },
     "metadata": {},
     "output_type": "display_data"
    }
   ],
   "source": [
    "\n",
    "plt.bar(gender_claim.index,gender_claim.values)\n",
    "plt.title(\"Claim Related to Driver issue By Gender\")\n",
    "plt.ylabel(\"Count Of Claims\")\n",
    "plt.xlabel('Gender')\n",
    "plt.show()"
   ]
  },
  {
   "cell_type": "code",
   "execution_count": null,
   "id": "9a14e6c1-8b4a-4dd2-952c-7a9b3868e90f",
   "metadata": {},
   "outputs": [],
   "source": []
  },
  {
   "cell_type": "code",
   "execution_count": 60,
   "id": "20f93d32-beaa-42a9-a355-e65a555973e6",
   "metadata": {},
   "outputs": [],
   "source": [
    "# fraudulent_policy.values"
   ]
  },
  {
   "cell_type": "markdown",
   "id": "94f993ed-73c5-43d5-a61a-da7bddddd1b6",
   "metadata": {
    "jp-MarkdownHeadingCollapsed": true
   },
   "source": [
    "### Which age group had the maximum fraudulent policy claims? Visualize iit on a bar chart.\n"
   ]
  },
  {
   "cell_type": "code",
   "execution_count": null,
   "id": "ada3cda7-f7e8-42b8-8a8c-4b563c8abf02",
   "metadata": {},
   "outputs": [],
   "source": []
  },
  {
   "cell_type": "code",
   "execution_count": 61,
   "id": "791aaf0a-a7d1-4ac8-82c6-55dfa77f2d29",
   "metadata": {},
   "outputs": [
    {
     "data": {
      "text/plain": [
       "{'No', 'Yes'}"
      ]
     },
     "execution_count": 61,
     "metadata": {},
     "output_type": "execute_result"
    }
   ],
   "source": [
    "set(insurance['fraudulent'])"
   ]
  },
  {
   "cell_type": "code",
   "execution_count": 62,
   "id": "c295d914-2cb7-47dc-a35c-fccb768410ae",
   "metadata": {},
   "outputs": [],
   "source": [
    "fraud_claim=insurance[insurance['fraudulent']=='Yes']"
   ]
  },
  {
   "cell_type": "code",
   "execution_count": 63,
   "id": "aaf71748-5248-4d4b-bb93-869a8968c799",
   "metadata": {},
   "outputs": [],
   "source": [
    "fraudulent_policy=fraud_claim.groupby(['age_category'])['fraudulent'].count()"
   ]
  },
  {
   "cell_type": "code",
   "execution_count": 64,
   "id": "21ca4b8d-3875-4eeb-b57b-2a0209f9c53c",
   "metadata": {},
   "outputs": [
    {
     "data": {
      "text/plain": [
       "age_category\n",
       "Adult       173\n",
       "Children      1\n",
       "Youth        73\n",
       "Name: fraudulent, dtype: int64"
      ]
     },
     "execution_count": 64,
     "metadata": {},
     "output_type": "execute_result"
    }
   ],
   "source": [
    "fraudulent_policy"
   ]
  },
  {
   "cell_type": "code",
   "execution_count": 65,
   "id": "4c5ee88d-4c28-4888-a034-f59557c46b80",
   "metadata": {},
   "outputs": [
    {
     "data": {
      "image/png": "[encoded data removed]",
      "text/plain": [
       "<Figure size 640x480 with 1 Axes>"
      ]
     },
     "metadata": {},
     "output_type": "display_data"
    }
   ],
   "source": [
    "plt.bar(fraudulent_policy.index,fraudulent_policy.values)\n",
    "plt.ylabel(\"No. Of  Fraudulent\")\n",
    "plt.xlabel('Age_Category')\n",
    "plt.title(\"Fraud Claim By Age Category\")\n",
    "plt.show()"
   ]
  },
  {
   "cell_type": "code",
   "execution_count": null,
   "id": "77797a6a-df3a-4371-84cd-554576255663",
   "metadata": {},
   "outputs": [],
   "source": []
  },
  {
   "cell_type": "code",
   "execution_count": null,
   "id": "34a537fd-95cb-4243-b48f-6f25fa8b59ab",
   "metadata": {},
   "outputs": [],
   "source": []
  },
  {
   "cell_type": "markdown",
   "id": "ad0354ce-49fa-43ee-8287-9d4ff2d69e3b",
   "metadata": {
    "jp-MarkdownHeadingCollapsed": true
   },
   "source": [
    "### 4. Visualize the monthly trend of the total amount that has been claimed \n",
    "### by the customers. Ensure that on the “month” axis, the month is in a chronological order not alphabetical order. "
   ]
  },
  {
   "cell_type": "code",
   "execution_count": 66,
   "id": "c3fe8751-fc3f-4464-aa96-3e4934f9f49c",
   "metadata": {},
   "outputs": [],
   "source": [
    "insurance.insert(4,'Month',insurance['claim_date'].dt.month)"
   ]
  },
  {
   "cell_type": "code",
   "execution_count": 67,
   "id": "b84f2815-f9d0-4f49-aba0-492a8e984b28",
   "metadata": {},
   "outputs": [],
   "source": [
    " Trand =insurance.groupby([\"Month\"])['claim_amount'].sum()"
   ]
  },
  {
   "cell_type": "code",
   "execution_count": 68,
   "id": "7a8a715b-feb5-47bb-9257-18de77e29213",
   "metadata": {
    "scrolled": true
   },
   "outputs": [],
   "source": [
    "# plt.plot_date(Trand.index,Trand.values)"
   ]
  },
  {
   "cell_type": "code",
   "execution_count": 69,
   "id": "bc0cd33f-2cba-482b-88db-ede837d4668f",
   "metadata": {},
   "outputs": [
    {
     "data": {
      "image/png": "[encoded data removed]",
      "text/plain": [
       "<Figure size 640x480 with 1 Axes>"
      ]
     },
     "metadata": {},
     "output_type": "display_data"
    }
   ],
   "source": [
    "plt.plot(Trand.index, Trand.values, marker='*', color='violet')\n",
    "plt.xlabel('Month')\n",
    "plt.ylabel('Claim Amount')\n",
    "# plt.gca().get_yaxis().set_major_formatter(plt.FuncFormatter(lambda x, loc: \"{:,}\".format(int(x))))\n",
    "plt.title('Insurance Claims Over Time')\n",
    "plt.grid(True)\n",
    "plt.show()"
   ]
  },
  {
   "cell_type": "code",
   "execution_count": 70,
   "id": "6ba4adb9-0411-41ae-bb25-abd97adf162a",
   "metadata": {},
   "outputs": [],
   "source": [
    "# sns.set_theme(style=\"darkgrid\")\n",
    "# sns.lineplot(data=insurance,x='Month',y='claim_amount')\n",
    "# plt.show()\n",
    "\n",
    "\n",
    "# sns.set_theme(style=\"darkgrid\")\n",
    "# sns.lineplot(x=Trand.index,y=Trand)\n",
    "# plt.show()"
   ]
  },
  {
   "cell_type": "code",
   "execution_count": null,
   "id": "064adebb-c98b-4afc-86a1-ddc512669548",
   "metadata": {},
   "outputs": [],
   "source": []
  },
  {
   "cell_type": "markdown",
   "id": "92323523-68f5-422e-a11e-922c5cda4725",
   "metadata": {
    "jp-MarkdownHeadingCollapsed": true
   },
   "source": [
    "### What is the average claim amount for gender and age categories and suitably represent the above using a facetted bar chart, one facet that represents fraudulent claims and the other for non-fraudulent claims."
   ]
  },
  {
   "cell_type": "code",
   "execution_count": 71,
   "id": "0a780b3c-dd01-4c54-adce-580d24e34310",
   "metadata": {},
   "outputs": [
    {
     "data": {
      "text/html": [
       "<div>\n",
       "<style scoped>\n",
       "    .dataframe tbody tr th:only-of-type {\n",
       "        vertical-align: middle;\n",
       "    }\n",
       "\n",
       "    .dataframe tbody tr th {\n",
       "        vertical-align: top;\n",
       "    }\n",
       "\n",
       "    .dataframe thead th {\n",
       "        text-align: right;\n",
       "    }\n",
       "</style>\n",
       "<table border=\"1\" class=\"dataframe\">\n",
       "  <thead>\n",
       "    <tr style=\"text-align: right;\">\n",
       "      <th></th>\n",
       "      <th>gender</th>\n",
       "      <th>age_category</th>\n",
       "      <th>fraudulent</th>\n",
       "      <th>claim_amount</th>\n",
       "    </tr>\n",
       "  </thead>\n",
       "  <tbody>\n",
       "    <tr>\n",
       "      <th>0</th>\n",
       "      <td>Female</td>\n",
       "      <td>Adult</td>\n",
       "      <td>No</td>\n",
       "      <td>12343.626374</td>\n",
       "    </tr>\n",
       "    <tr>\n",
       "      <th>1</th>\n",
       "      <td>Female</td>\n",
       "      <td>Adult</td>\n",
       "      <td>Yes</td>\n",
       "      <td>12462.050000</td>\n",
       "    </tr>\n",
       "    <tr>\n",
       "      <th>2</th>\n",
       "      <td>Female</td>\n",
       "      <td>Youth</td>\n",
       "      <td>No</td>\n",
       "      <td>12598.515625</td>\n",
       "    </tr>\n",
       "    <tr>\n",
       "      <th>3</th>\n",
       "      <td>Female</td>\n",
       "      <td>Youth</td>\n",
       "      <td>Yes</td>\n",
       "      <td>7599.069444</td>\n",
       "    </tr>\n",
       "    <tr>\n",
       "      <th>4</th>\n",
       "      <td>Male</td>\n",
       "      <td>Adult</td>\n",
       "      <td>No</td>\n",
       "      <td>12180.101351</td>\n",
       "    </tr>\n",
       "    <tr>\n",
       "      <th>5</th>\n",
       "      <td>Male</td>\n",
       "      <td>Adult</td>\n",
       "      <td>Yes</td>\n",
       "      <td>17062.174699</td>\n",
       "    </tr>\n",
       "    <tr>\n",
       "      <th>6</th>\n",
       "      <td>Male</td>\n",
       "      <td>Children</td>\n",
       "      <td>No</td>\n",
       "      <td>23775.000000</td>\n",
       "    </tr>\n",
       "    <tr>\n",
       "      <th>7</th>\n",
       "      <td>Male</td>\n",
       "      <td>Children</td>\n",
       "      <td>Yes</td>\n",
       "      <td>32407.000000</td>\n",
       "    </tr>\n",
       "    <tr>\n",
       "      <th>8</th>\n",
       "      <td>Male</td>\n",
       "      <td>Youth</td>\n",
       "      <td>No</td>\n",
       "      <td>12048.181818</td>\n",
       "    </tr>\n",
       "    <tr>\n",
       "      <th>9</th>\n",
       "      <td>Male</td>\n",
       "      <td>Youth</td>\n",
       "      <td>Yes</td>\n",
       "      <td>10096.391892</td>\n",
       "    </tr>\n",
       "  </tbody>\n",
       "</table>\n",
       "</div>"
      ],
      "text/plain": [
       "   gender age_category fraudulent  claim_amount\n",
       "0  Female        Adult         No  12343.626374\n",
       "1  Female        Adult        Yes  12462.050000\n",
       "2  Female        Youth         No  12598.515625\n",
       "3  Female        Youth        Yes   7599.069444\n",
       "4    Male        Adult         No  12180.101351\n",
       "5    Male        Adult        Yes  17062.174699\n",
       "6    Male     Children         No  23775.000000\n",
       "7    Male     Children        Yes  32407.000000\n",
       "8    Male        Youth         No  12048.181818\n",
       "9    Male        Youth        Yes  10096.391892"
      ]
     },
     "execution_count": 71,
     "metadata": {},
     "output_type": "execute_result"
    }
   ],
   "source": [
    "avg_claim_amount=insurance.groupby(['gender','age_category','fraudulent'])['claim_amount'].mean().reset_index()\n",
    "avg_claim_amount\n"
   ]
  },
  {
   "cell_type": "code",
   "execution_count": 72,
   "id": "2c9d94b6-0fcc-41cd-b10c-80fc22de00a7",
   "metadata": {},
   "outputs": [
    {
     "data": {
      "text/plain": [
       "<seaborn.axisgrid.FacetGrid at 0x173af2358d0>"
      ]
     },
     "execution_count": 72,
     "metadata": {},
     "output_type": "execute_result"
    },
    {
     "data": {
      "image/png": "[encoded data removed]",
      "text/plain": [
       "<Figure size 600.25x500 with 1 Axes>"
      ]
     },
     "metadata": {},
     "output_type": "display_data"
    }
   ],
   "source": [
    "sns.catplot(data=avg_claim_amount,x='age_category',y='claim_amount', hue='gender', kind='bar')"
   ]
  },
  {
   "cell_type": "code",
   "execution_count": 73,
   "id": "11e544a3-f987-4a9f-be18-b059308f3bd5",
   "metadata": {},
   "outputs": [
    {
     "data": {
      "image/png": "[encoded data removed]",
      "text/plain": [
       "<Figure size 583.486x500 with 1 Axes>"
      ]
     },
     "metadata": {},
     "output_type": "display_data"
    }
   ],
   "source": [
    "sns.catplot(data=avg_claim_amount,x='age_category',y='claim_amount',\n",
    "    hue='fraudulent',kind='bar',palette='Set1'),\n",
    "plt.show()         "
   ]
  },
  {
   "cell_type": "code",
   "execution_count": 74,
   "id": "a01dcbb3-e622-4085-bf04-5eadfff26aea",
   "metadata": {},
   "outputs": [
    {
     "data": {
      "image/png": "[encoded data removed]",
      "text/plain": [
       "<Figure size 1107.88x500 with 2 Axes>"
      ]
     },
     "metadata": {},
     "output_type": "display_data"
    }
   ],
   "source": [
    "sns.catplot(data=insurance, x=\"gender\", y=\"claim_amount\", hue=\"age_category\", col=\"fraudulent\", kind=\"bar\")\n",
    "plt.show()"
   ]
  },
  {
   "cell_type": "code",
   "execution_count": 75,
   "id": "1edbf302-9281-4e61-8bad-ddc1a528fac8",
   "metadata": {},
   "outputs": [],
   "source": [
    "# from cell Fraud by claim chart\n",
    "# fraud_claim=insurance[insurance['fraudulent']=='Yes']"
   ]
  },
  {
   "cell_type": "code",
   "execution_count": 76,
   "id": "40f8903a-2e23-4467-bf5a-cc1817a0b8af",
   "metadata": {},
   "outputs": [],
   "source": [
    "# Nonfraud_claim=insurance[insurance['fraudulent']=='No']\n",
    "# # fraud_claim.shape[0]+Nonfraud_claim.shape[0]"
   ]
  },
  {
   "cell_type": "code",
   "execution_count": 77,
   "id": "b12c8cde-4f69-4369-b30e-4804ce21dc43",
   "metadata": {},
   "outputs": [],
   "source": [
    "# Nonfraud_claim.groupby(['gender','age_category'])['claim_amount'].mean()\n",
    "# fraud_claim.groupby(['gender','age_category'])['claim_amount'].mean()"
   ]
  },
  {
   "cell_type": "code",
   "execution_count": 78,
   "id": "46f98dd8-1f8e-4871-8437-1f09e0f27685",
   "metadata": {},
   "outputs": [],
   "source": [
    "# sns.catplot(data=insurance, x='gender', y='claim_amount', kind='violin')\n",
    "# plt.xlabel('Gender')\n",
    "# plt.ylabel('Claim Amount')\n",
    "# plt.title('Side-by-Side Box Plots: Claim Amount `by Gender')\n",
    "# plt.show()"
   ]
  },
  {
   "cell_type": "markdown",
   "id": "4eaf9443-bf01-4ea1-83d2-2e795b1c139f",
   "metadata": {
    "jp-MarkdownHeadingCollapsed": true
   },
   "source": [
    "### Based on the conclusions from exploratory analysis as well as suitable statistical tests, answer the below questions. Please include a detailed write-up on the parameters taken into consideration, the Hypothesis testing steps, conclusion from the p-values and the business implications of the statements."
   ]
  },
  {
   "cell_type": "code",
   "execution_count": null,
   "id": "6d06dcff-2415-4674-a820-6876d65ae1c2",
   "metadata": {},
   "outputs": [],
   "source": []
  },
  {
   "cell_type": "markdown",
   "id": "53413f09-b52d-4470-833a-0d538b0d6e4e",
   "metadata": {},
   "source": [
    "###     Q1   Is there any similarity in the amount claimed by males and females?"
   ]
  },
  {
   "cell_type": "markdown",
   "id": "72ff17da-9012-4d53-8027-a3402f6ead35",
   "metadata": {
    "jp-MarkdownHeadingCollapsed": true
   },
   "source": [
    "#### 1. Define H0:\n",
    "            u1 = u2\n",
    "                or\n",
    "            Means of male claimed amount & female claimed amount are same\n",
    "\n",
    "#### 2. Define Ha:\n",
    "            \n",
    "            u1 != u2\n",
    "                or\n",
    "           Means of male claimed amount & female claimed amount  are different\n",
    "\n",
    "#### 3. Define CI & pvalues:\n",
    "          CI = 95 % (cut off = 1.960)\n",
    "             p value = 0.05\n",
    "\n",
    "#### 4. Perform test:\n",
    "            t- test\n",
    "                     (where we have 2 samples to compare, belonging to different objects, one is gender & other is usage )\n",
    "                "
   ]
  },
  {
   "cell_type": "code",
   "execution_count": 79,
   "id": "e9ec5387",
   "metadata": {},
   "outputs": [],
   "source": [
    "f_mean=insurance.loc[ insurance.gender == 'Female' , 'claim_amount']"
   ]
  },
  {
   "cell_type": "code",
   "execution_count": 80,
   "id": "f6af36ef",
   "metadata": {},
   "outputs": [],
   "source": [
    "m_mean=insurance.loc[insurance.gender=='Male','claim_amount']"
   ]
  },
  {
   "cell_type": "code",
   "execution_count": 81,
   "id": "b9e32824-a189-4d5b-b07c-f08cb8df3a27",
   "metadata": {},
   "outputs": [
    {
     "data": {
      "text/plain": [
       "12101.65275142315"
      ]
     },
     "execution_count": 81,
     "metadata": {},
     "output_type": "execute_result"
    }
   ],
   "source": [
    "f_mean.mean()"
   ]
  },
  {
   "cell_type": "code",
   "execution_count": 82,
   "id": "00b68928-2802-4719-ba37-257a936dce72",
   "metadata": {},
   "outputs": [
    {
     "data": {
      "text/plain": [
       "12822.784029038112"
      ]
     },
     "execution_count": 82,
     "metadata": {},
     "output_type": "execute_result"
    }
   ],
   "source": [
    "m_mean.mean()"
   ]
  },
  {
   "cell_type": "code",
   "execution_count": 83,
   "id": "1b30bc48",
   "metadata": {},
   "outputs": [
    {
     "data": {
      "text/plain": [
       "TtestResult(statistic=-0.8854115573363243, pvalue=0.376132521643629, df=1076.0)"
      ]
     },
     "execution_count": 83,
     "metadata": {},
     "output_type": "execute_result"
    }
   ],
   "source": [
    "stats.ttest_ind(f_mean,m_mean)"
   ]
  },
  {
   "cell_type": "markdown",
   "id": "6a6291d5-7f56-404d-9f97-627eab2cb719",
   "metadata": {},
   "source": [
    "#### 5. Rejection Rule:\n",
    "            \n",
    "    New p value(0.376 ) > 0.05\n",
    "    Hence we fail to reject Null Hypothesis\n",
    "\n",
    "\n",
    "#### **CLAIMED AMOUNT is MORE OF FEMALE THEN MALE **    "
   ]
  },
  {
   "cell_type": "code",
   "execution_count": null,
   "id": "78cec594-065a-4885-bda8-9d64b7dfe2d8",
   "metadata": {},
   "outputs": [],
   "source": []
  },
  {
   "cell_type": "markdown",
   "id": "8b000b0d-9094-4401-a69e-5294bb7463ae",
   "metadata": {},
   "source": [
    "### Q2 Is there any relationship between age category and segment?"
   ]
  },
  {
   "cell_type": "markdown",
   "id": "745037b3-363a-485c-8c5a-3d7f88c8b6a9",
   "metadata": {},
   "source": [
    "#### 1 Null Hypothesis \n",
    "##### = Age_category are the independent to the Customert_Segment\n",
    "#### 2 Alternative Hypothesis \n",
    "##### = Age_category are the dependent to the Customer_Segment\n",
    "#### 3 Confidence Level \n",
    "##### = 95% (we decisid p_value as = 0.05)\n",
    "#### 4 Statistical Test \n",
    "##### = we using Chisquare test (finding the relationship between categorys)  \n"
   ]
  },
  {
   "cell_type": "code",
   "execution_count": 84,
   "id": "6c9d22ab-b166-44bb-840a-7d86f0958023",
   "metadata": {},
   "outputs": [
    {
     "data": {
      "text/html": [
       "<div>\n",
       "<style scoped>\n",
       "    .dataframe tbody tr th:only-of-type {\n",
       "        vertical-align: middle;\n",
       "    }\n",
       "\n",
       "    .dataframe tbody tr th {\n",
       "        vertical-align: top;\n",
       "    }\n",
       "\n",
       "    .dataframe thead th {\n",
       "        text-align: right;\n",
       "    }\n",
       "</style>\n",
       "<table border=\"1\" class=\"dataframe\">\n",
       "  <thead>\n",
       "    <tr style=\"text-align: right;\">\n",
       "      <th></th>\n",
       "      <th>age_category</th>\n",
       "      <th>Segment</th>\n",
       "    </tr>\n",
       "  </thead>\n",
       "  <tbody>\n",
       "    <tr>\n",
       "      <th>739</th>\n",
       "      <td>Adult</td>\n",
       "      <td>Gold</td>\n",
       "    </tr>\n",
       "    <tr>\n",
       "      <th>181</th>\n",
       "      <td>Youth</td>\n",
       "      <td>Platinum</td>\n",
       "    </tr>\n",
       "    <tr>\n",
       "      <th>312</th>\n",
       "      <td>Adult</td>\n",
       "      <td>Silver</td>\n",
       "    </tr>\n",
       "    <tr>\n",
       "      <th>905</th>\n",
       "      <td>Youth</td>\n",
       "      <td>Gold</td>\n",
       "    </tr>\n",
       "    <tr>\n",
       "      <th>120</th>\n",
       "      <td>Adult</td>\n",
       "      <td>Gold</td>\n",
       "    </tr>\n",
       "    <tr>\n",
       "      <th>...</th>\n",
       "      <td>...</td>\n",
       "      <td>...</td>\n",
       "    </tr>\n",
       "    <tr>\n",
       "      <th>354</th>\n",
       "      <td>Adult</td>\n",
       "      <td>Gold</td>\n",
       "    </tr>\n",
       "    <tr>\n",
       "      <th>286</th>\n",
       "      <td>Adult</td>\n",
       "      <td>Gold</td>\n",
       "    </tr>\n",
       "    <tr>\n",
       "      <th>226</th>\n",
       "      <td>Adult</td>\n",
       "      <td>Gold</td>\n",
       "    </tr>\n",
       "    <tr>\n",
       "      <th>1077</th>\n",
       "      <td>Adult</td>\n",
       "      <td>Platinum</td>\n",
       "    </tr>\n",
       "    <tr>\n",
       "      <th>1055</th>\n",
       "      <td>Adult</td>\n",
       "      <td>Gold</td>\n",
       "    </tr>\n",
       "  </tbody>\n",
       "</table>\n",
       "<p>1078 rows × 2 columns</p>\n",
       "</div>"
      ],
      "text/plain": [
       "     age_category   Segment\n",
       "739         Adult      Gold\n",
       "181         Youth  Platinum\n",
       "312         Adult    Silver\n",
       "905         Youth      Gold\n",
       "120         Adult      Gold\n",
       "...           ...       ...\n",
       "354         Adult      Gold\n",
       "286         Adult      Gold\n",
       "226         Adult      Gold\n",
       "1077        Adult  Platinum\n",
       "1055        Adult      Gold\n",
       "\n",
       "[1078 rows x 2 columns]"
      ]
     },
     "execution_count": 84,
     "metadata": {},
     "output_type": "execute_result"
    }
   ],
   "source": [
    "insurance[['age_category','Segment']]"
   ]
  },
  {
   "cell_type": "code",
   "execution_count": 85,
   "id": "437e2457-8f0e-47b6-9171-e1aec9f02f29",
   "metadata": {},
   "outputs": [
    {
     "data": {
      "text/html": [
       "<div>\n",
       "<style scoped>\n",
       "    .dataframe tbody tr th:only-of-type {\n",
       "        vertical-align: middle;\n",
       "    }\n",
       "\n",
       "    .dataframe tbody tr th {\n",
       "        vertical-align: top;\n",
       "    }\n",
       "\n",
       "    .dataframe thead th {\n",
       "        text-align: right;\n",
       "    }\n",
       "</style>\n",
       "<table border=\"1\" class=\"dataframe\">\n",
       "  <thead>\n",
       "    <tr style=\"text-align: right;\">\n",
       "      <th>Segment</th>\n",
       "      <th>Gold</th>\n",
       "      <th>Platinum</th>\n",
       "      <th>Silver</th>\n",
       "    </tr>\n",
       "    <tr>\n",
       "      <th>age_category</th>\n",
       "      <th></th>\n",
       "      <th></th>\n",
       "      <th></th>\n",
       "    </tr>\n",
       "  </thead>\n",
       "  <tbody>\n",
       "    <tr>\n",
       "      <th>Adult</th>\n",
       "      <td>261</td>\n",
       "      <td>242</td>\n",
       "      <td>239</td>\n",
       "    </tr>\n",
       "    <tr>\n",
       "      <th>Children</th>\n",
       "      <td>2</td>\n",
       "      <td>1</td>\n",
       "      <td>0</td>\n",
       "    </tr>\n",
       "    <tr>\n",
       "      <th>Youth</th>\n",
       "      <td>108</td>\n",
       "      <td>118</td>\n",
       "      <td>107</td>\n",
       "    </tr>\n",
       "  </tbody>\n",
       "</table>\n",
       "</div>"
      ],
      "text/plain": [
       "Segment       Gold  Platinum  Silver\n",
       "age_category                        \n",
       "Adult          261       242     239\n",
       "Children         2         1       0\n",
       "Youth          108       118     107"
      ]
     },
     "execution_count": 85,
     "metadata": {},
     "output_type": "execute_result"
    }
   ],
   "source": [
    "x=pd.crosstab(index=insurance['age_category'],columns=insurance['Segment'])\n",
    "x"
   ]
  },
  {
   "cell_type": "code",
   "execution_count": 86,
   "id": "65904b5a-eeda-4ae6-a5cc-4b47460001e8",
   "metadata": {},
   "outputs": [
    {
     "data": {
      "text/plain": [
       "Chi2ContingencyResult(statistic=2.9238279326481593, pvalue=0.5706524727353277, dof=4, expected_freq=array([[255.36363636, 248.48051948, 238.15584416],\n",
       "       [  1.03246753,   1.00463822,   0.96289425],\n",
       "       [114.6038961 , 111.5148423 , 106.8812616 ]]))"
      ]
     },
     "execution_count": 86,
     "metadata": {},
     "output_type": "execute_result"
    }
   ],
   "source": [
    "stats.chi2_contingency(x)"
   ]
  },
  {
   "cell_type": "markdown",
   "id": "141b2f0e-fc4d-44dc-9e04-9ecb8c599357",
   "metadata": {},
   "source": [
    "####  Decision Rule\n",
    "\n",
    "    New p value(0.570 ) > 0.05\n",
    "    Hence we fail to reject Null Hypothesis"
   ]
  },
  {
   "cell_type": "markdown",
   "id": "6222cee6-445d-4859-a786-27ec0b411127",
   "metadata": {},
   "source": [
    "####  conclusion\n",
    "\n",
    "        There is no significant Relationship between Age_Category and Segment \n",
    "        Age_category and Segment are independent of each other"
   ]
  },
  {
   "cell_type": "code",
   "execution_count": null,
   "id": "007e03b0-e19f-4bda-b57b-8655899f20e4",
   "metadata": {},
   "outputs": [],
   "source": []
  },
  {
   "cell_type": "markdown",
   "id": "8d85afd9-dc0f-4bde-8da8-3ff4b709ce7b",
   "metadata": {
    "jp-MarkdownHeadingCollapsed": true
   },
   "source": [
    "### 18. The current year has shown a significant rise in claim amounts as compared to 2016-17 fiscal average which was $10,000"
   ]
  },
  {
   "cell_type": "markdown",
   "id": "4f9b8a58-7dd5-45f1-8bf1-4c68eab74f92",
   "metadata": {},
   "source": [
    "#### 1 Null Hypothesis \n",
    "##### = the avg Claim_amount in current_year equal_to the avg of amount in 2016-17('10,000')\n",
    "#### 2 Alternative Hypothesis \n",
    "##### = the avg  Claim_amount in current_year is different(higher) from avg of amount in 2016-17('10,000')\n",
    "#### 3 Confidence Level \n",
    "##### = 95% (we decisid p_value as = 0.05)\n",
    "#### 4 Statistical Test \n",
    "##### = we using one_sample T_test (compair the two continuous mens )  \n"
   ]
  },
  {
   "cell_type": "code",
   "execution_count": 87,
   "id": "25e43519-7695-4837-bbdc-fc0f7ff7428a",
   "metadata": {},
   "outputs": [
    {
     "data": {
      "text/plain": [
       "Month\n",
       "10    121\n",
       "3     111\n",
       "7     106\n",
       "1     105\n",
       "4     103\n",
       "5      93\n",
       "6      91\n",
       "2      90\n",
       "8      89\n",
       "9      77\n",
       "12     48\n",
       "11     44\n",
       "Name: count, dtype: int64"
      ]
     },
     "execution_count": 87,
     "metadata": {},
     "output_type": "execute_result"
    }
   ],
   "source": [
    "insurance.Month.value_counts()"
   ]
  },
  {
   "cell_type": "code",
   "execution_count": 88,
   "id": "44669b07-2c9c-419d-a2c0-97fecb299e8a",
   "metadata": {},
   "outputs": [
    {
     "data": {
      "text/plain": [
       "year\n",
       "2017    598\n",
       "2018    480\n",
       "Name: count, dtype: int64"
      ]
     },
     "execution_count": 88,
     "metadata": {},
     "output_type": "execute_result"
    }
   ],
   "source": [
    "insurance['year']=insurance['claim_date'].dt.year\n",
    "insurance['year'].value_counts()"
   ]
  },
  {
   "cell_type": "code",
   "execution_count": 89,
   "id": "c577d8fc-624a-4143-b057-463f0836832c",
   "metadata": {},
   "outputs": [],
   "source": [
    "y=insurance[insurance['year']==2018]['claim_amount']"
   ]
  },
  {
   "cell_type": "code",
   "execution_count": 90,
   "id": "8c5a9473-068c-4bc7-97fb-2f0ed4bf67f5",
   "metadata": {},
   "outputs": [
    {
     "data": {
      "text/plain": [
       "TtestResult(statistic=4.402390226936731, pvalue=1.3213347314760531e-05, df=479)"
      ]
     },
     "execution_count": 90,
     "metadata": {},
     "output_type": "execute_result"
    }
   ],
   "source": [
    "stats.ttest_1samp(y,popmean=10000)"
   ]
  },
  {
   "cell_type": "markdown",
   "id": "a482e8dd-6332-47cf-83a9-9d7991a3b380",
   "metadata": {},
   "source": [
    "####  Decision Rule\n",
    "\n",
    "    New p value(1.321e ) < 0.05\n",
    "    Hence we Reject Null Hypothesis"
   ]
  },
  {
   "cell_type": "markdown",
   "id": "61f3b985-4ace-424a-a486-93fefcb6817d",
   "metadata": {},
   "source": [
    "####  conclusion\n",
    "\n",
    "        The Average Claim_Amount of this current year\"2018\" is not equal or higher to the \n",
    "         Average Claim_Amount of this year\"2017"
   ]
  },
  {
   "cell_type": "code",
   "execution_count": null,
   "id": "9a3439f1-76d7-465d-b1dc-23dc4b64ecac",
   "metadata": {},
   "outputs": [],
   "source": []
  },
  {
   "cell_type": "code",
   "execution_count": null,
   "id": "131a9fde-16b2-458b-809e-3cece83482b7",
   "metadata": {},
   "outputs": [],
   "source": []
  },
  {
   "cell_type": "markdown",
   "id": "834407a8-6171-4c8f-9d0d-a45df60a69e7",
   "metadata": {
    "jp-MarkdownHeadingCollapsed": true
   },
   "source": [
    "### 19. Is there any difference between age groups and insurance claims?"
   ]
  },
  {
   "cell_type": "markdown",
   "id": "ea4adbd0-1ead-4b7e-a760-0e52175799f8",
   "metadata": {},
   "source": [
    "#### 1 Null Hypothesis\n",
    "##### = The mean of adult ,children and youth are Equal | All sample are belong to same population \n",
    "#### 2 Alternative Hypothesis\n",
    "##### = The mean of adult ,children and youth are not Equal | All sample are not to the same population\n",
    "#### 3 Confidence Level\n",
    "##### = 95% (we decide p_value as = 0.05)\n",
    "#### 4 Statistical Test\n",
    "##### = we using F test ANOVA (finding the Comparesion between the continous and categorical varaibles)\n"
   ]
  },
  {
   "cell_type": "code",
   "execution_count": 91,
   "id": "ec7c6fbd-6f7d-4989-b227-28f6022e0038",
   "metadata": {},
   "outputs": [
    {
     "data": {
      "text/plain": [
       "age_category\n",
       "Adult       12820.572776\n",
       "Children    26652.333333\n",
       "Youth       11561.870871\n",
       "Name: claim_amount, dtype: float64"
      ]
     },
     "execution_count": 91,
     "metadata": {},
     "output_type": "execute_result"
    }
   ],
   "source": [
    "x=insurance.groupby(['age_category'])['claim_amount'].mean()\n",
    "x"
   ]
  },
  {
   "cell_type": "code",
   "execution_count": 92,
   "id": "2c1938b5-800d-4899-b3b5-7a1923533ecc",
   "metadata": {},
   "outputs": [],
   "source": [
    "adult=insurance.loc[insurance['age_category']=='Adult','claim_amount']\n",
    "youth=insurance.loc[insurance['age_category']=='Youth','claim_amount']\n",
    "child=insurance.loc[insurance['age_category']=='Children','claim_amount']\n",
    "# insurance[insurance['age_category'] == 'Adult']['claim_amount']"
   ]
  },
  {
   "cell_type": "code",
   "execution_count": 93,
   "id": "4fe7a58c-7990-42b6-bb4b-de7a4b3b9f96",
   "metadata": {},
   "outputs": [
    {
     "data": {
      "text/plain": [
       "F_onewayResult(statistic=2.721382899009648, pvalue=0.06623694883457197)"
      ]
     },
     "execution_count": 93,
     "metadata": {},
     "output_type": "execute_result"
    }
   ],
   "source": [
    "stats.f_oneway(adult,youth,child)"
   ]
  },
  {
   "cell_type": "markdown",
   "id": "b6ea3a1e-4d4e-4791-9080-481350147678",
   "metadata": {},
   "source": [
    "####  Decision Rule\n",
    "\n",
    "    New p value(0.066) > 0.05\n",
    "    Hence we  Fail to reject Null Hypothesis"
   ]
  },
  {
   "cell_type": "markdown",
   "id": "19e8772b-1ec0-411c-80d2-68fd98e7aee3",
   "metadata": {},
   "source": [
    "#### 6 Conclusion Statment\n",
    "          That Age_groups have a Significant Impact on Insurance_Claims,The Mean of the all 3 category are not same"
   ]
  },
  {
   "cell_type": "code",
   "execution_count": null,
   "id": "8c6d08ef-4f82-439e-a3eb-7fe24a6e71da",
   "metadata": {},
   "outputs": [],
   "source": []
  },
  {
   "cell_type": "code",
   "execution_count": null,
   "id": "2931211e-5bd3-499f-bf12-9cb545708c5c",
   "metadata": {},
   "outputs": [],
   "source": []
  },
  {
   "cell_type": "markdown",
   "id": "9194de2f-fe6b-46c3-a60e-e471b01e5a82",
   "metadata": {
    "jp-MarkdownHeadingCollapsed": true
   },
   "source": [
    "### 20. Is there any relationship between total number of policy claims and the claimed amount?\n"
   ]
  },
  {
   "cell_type": "code",
   "execution_count": 94,
   "id": "cb004c30-b272-48da-a839-87deff9593ef",
   "metadata": {},
   "outputs": [],
   "source": [
    "# insurance.total_policy_claims>"
   ]
  },
  {
   "cell_type": "code",
   "execution_count": 95,
   "id": "06f2dce4-41e4-450d-8fd6-02b52900e4a6",
   "metadata": {},
   "outputs": [],
   "source": [
    "# insurance.claim_amount"
   ]
  },
  {
   "cell_type": "markdown",
   "id": "a33c2e35-a2da-4fb6-a9a8-18f3819b323f",
   "metadata": {},
   "source": [
    "#### 1 Null Hypothesis\n",
    "##### = Policy_claims and Claim_amount they not have any mutual relationship between them\n",
    "#### 2 Alternative Hypothesis\n",
    "##### = Policy_claim and Claim_amount they  have a Mutual relationship between them\n",
    "#### 3 Confidence Level\n",
    "##### = 95% (we decide p_value as = 0.05)\n",
    "#### 5 Statistical Test\n",
    "##### = we using Corraltion (finding the Relationship between the continous and continous varaibles)\n"
   ]
  },
  {
   "cell_type": "code",
   "execution_count": 96,
   "id": "5d11448c-f8b3-4ac5-8fd3-3b10c54bf4ad",
   "metadata": {},
   "outputs": [
    {
     "data": {
      "text/plain": [
       "PearsonRResult(statistic=-0.013895204991377901, pvalue=0.6485965705241583)"
      ]
     },
     "execution_count": 96,
     "metadata": {},
     "output_type": "execute_result"
    }
   ],
   "source": [
    "stats.pearsonr(insurance.total_policy_claims,insurance.claim_amount)"
   ]
  },
  {
   "cell_type": "markdown",
   "id": "e061a9a3-2a65-4fe6-a2ff-ad4995c71905",
   "metadata": {},
   "source": [
    "#### 4 Decision Rule\n",
    "      New p value(0.648) > 0.05\n",
    "        Hence we  Fail to reject Null Hypothesis"
   ]
  },
  {
   "cell_type": "markdown",
   "id": "0354a549-45e8-48bc-8958-7369a0c565ba",
   "metadata": {},
   "source": [
    "#### 6 Conclusion_ statment\n",
    "    policy_claims and Claim_amount they have no postive or negtive Relationship between Then"
   ]
  },
  {
   "cell_type": "code",
   "execution_count": null,
   "id": "2c0a14fa-cd34-4417-b690-1acac3a04176",
   "metadata": {},
   "outputs": [],
   "source": []
  },
  {
   "cell_type": "code",
   "execution_count": null,
   "id": "13aefe2e-767e-4333-bc8e-5084d2e1769b",
   "metadata": {},
   "outputs": [],
   "source": []
  },
  {
   "cell_type": "code",
   "execution_count": null,
   "id": "3a3d0a0b-a963-4657-8033-2cd8ebae905a",
   "metadata": {},
   "outputs": [],
   "source": []
  },
  {
   "cell_type": "markdown",
   "id": "7d77ab1d-8f5f-4f94-aa8a-3a9dc709fca6",
   "metadata": {},
   "source": [
    "# END"
   ]
  },
  {
   "cell_type": "code",
   "execution_count": null,
   "id": "160cbe55-1204-4765-83e5-27403e3b20e0",
   "metadata": {},
   "outputs": [],
   "source": []
  },
  {
   "cell_type": "code",
   "execution_count": 97,
   "id": "d655e5ca",
   "metadata": {},
   "outputs": [],
   "source": [
    "# import pandas as pd\n",
    "\n",
    "# def convert_to_datetime(df, column_name):\n",
    "# #     \"\"\"\n",
    "# #     Converts the specified column in a Pandas DataFrame to datetime dtype.\n",
    "    \n",
    "# #     Args:\n",
    "# #         df (pd.DataFrame): The DataFrame containing the column.\n",
    "# #         column_name (str): The name of the column to convert.\n",
    "    \n",
    "# #     Returns:\n",
    "# #         pd.DataFrame: The modified DataFrame with the converted column.\n",
    "# #     \"\"\"\n",
    "#     df[column_name] = pd.to_datetime(df[column_name])\n",
    "#     return df\n",
    "\n",
    "# # Example usage:\n",
    "# # raw_data = pd.DataFrame({'Mycol': ['05SEP2014:00:00:00.000']})\n",
    "# # converted_data = convert_to_datetime(raw_data, 'Mycol')\n",
    "# # print(converted_data)\n"
   ]
  },
  {
   "cell_type": "code",
   "execution_count": null,
   "id": "05db0698",
   "metadata": {},
   "outputs": [],
   "source": []
  }
 ],
 "metadata": {
  "kernelspec": {
   "display_name": "Python 3 (ipykernel)",
   "language": "python",
   "name": "python3"
  },
  "language_info": {
   "codemirror_mode": {
    "name": "ipython",
    "version": 3
   },
   "file_extension": ".py",
   "mimetype": "text/x-python",
   "name": "python",
   "nbconvert_exporter": "python",
   "pygments_lexer": "ipython3",
   "version": "3.11.7"
  }
 },
 "nbformat": 4,
 "nbformat_minor": 5
}
